{
 "cells": [
  {
   "cell_type": "code",
   "execution_count": 1,
   "metadata": {},
   "outputs": [],
   "source": [
    "import os\n",
    "import langchain\n",
    "from langchain.agents import create_sql_agent\n",
    "from langchain.agents.agent_toolkits import SQLDatabaseToolkit\n",
    "from langchain.agents.agent_types import AgentType\n",
    "from langchain.chains.sql_database.query import create_sql_query_chain\n",
    "from langchain.chat_models import ChatOpenAI\n",
    "from langchain.llms.openai import OpenAI\n",
    "from langchain.sql_database import SQLDatabase\n",
    "from langchain.utilities import SQLDatabase"
   ]
  },
  {
   "cell_type": "code",
   "execution_count": 2,
   "metadata": {},
   "outputs": [],
   "source": [
    "# connecting database\n",
    "host = os.getenv(\"DB_HOST\")\n",
    "port = os.getenv(\"DB_PORT\")\n",
    "user = os.getenv(\"DB_USER\")\n",
    "password = os.getenv(\"DB_PASSWORD\")\n",
    "database_name = os.getenv(\"DB_NAME\")\n",
    "\n",
    "connection_params = {\"host\": host, \"user\": user,\n",
    "                         \"password\": password, \"port\": port, \"database\": database_name}\n",
    "\n",
    "db = SQLDatabase.from_uri(\n",
    "    f\"postgresql+psycopg2://{connection_params['user']}:{connection_params['password']}@{connection_params['host']}:{connection_params['port']}/{connection_params['database']}\"\n",
    ")"
   ]
  },
  {
   "cell_type": "code",
   "execution_count": 3,
   "metadata": {},
   "outputs": [
    {
     "name": "stderr",
     "output_type": "stream",
     "text": [
      "/home/kanu/redashvenv1/lib/python3.10/site-packages/langchain_core/_api/deprecation.py:189: LangChainDeprecationWarning: The class `ChatOpenAI` was deprecated in LangChain 0.1.0 and will be removed in 0.2.0. Use langchain_openai.ChatOpenAI instead.\n",
      "  warn_deprecated(\n"
     ]
    },
    {
     "name": "stdout",
     "output_type": "stream",
     "text": [
      "SELECT COUNT(*) FROM information_schema.tables WHERE table_schema = 'public';\n"
     ]
    }
   ],
   "source": [
    "# uses SQLDatabase class as it provides a get_table_info method that can be used to get column information as well as sample data from the table.(not recommended)\n",
    "# To mitigate risk of leaking sensitive data, limit permissions to read and scope to the tables that are needed.\n",
    "# creates SQL queries but doesn't run it\n",
    "chain= create_sql_query_chain(llm=ChatOpenAI(temperature=0,model=\"gpt-3.5-turbo-0613\"),db=db)\n",
    "sql_query=chain.invoke({\"question\":\"how many tables do i have in my database?\"})\n",
    "print(sql_query)"
   ]
  },
  {
   "cell_type": "code",
   "execution_count": 4,
   "metadata": {},
   "outputs": [
    {
     "data": {
      "text/plain": [
       "'[(26,)]'"
      ]
     },
     "execution_count": 4,
     "metadata": {},
     "output_type": "execute_result"
    }
   ],
   "source": [
    "# executing the sql query genertaed against the db object\n",
    "db.run(sql_query)"
   ]
  },
  {
   "cell_type": "code",
   "execution_count": 5,
   "metadata": {},
   "outputs": [
    {
     "name": "stdout",
     "output_type": "stream",
     "text": [
      "\u001b[32;1m\u001b[1;3m[chain/start]\u001b[0m \u001b[1m[1:chain:RunnableSequence] Entering Chain run with input:\n",
      "\u001b[0m{\n",
      "  \"question\": \"which age group has the most views?\"\n",
      "}\n",
      "\u001b[32;1m\u001b[1;3m[chain/start]\u001b[0m \u001b[1m[1:chain:RunnableSequence > 2:chain:RunnableParallel<input,top_k,table_info>] Entering Chain run with input:\n",
      "\u001b[0m{\n",
      "  \"question\": \"which age group has the most views?\"\n",
      "}\n",
      "\u001b[32;1m\u001b[1;3m[chain/start]\u001b[0m \u001b[1m[1:chain:RunnableSequence > 2:chain:RunnableParallel<input,top_k,table_info> > 3:chain:<lambda>] Entering Chain run with input:\n",
      "\u001b[0m{\n",
      "  \"question\": \"which age group has the most views?\"\n",
      "}\n",
      "\u001b[36;1m\u001b[1;3m[chain/end]\u001b[0m \u001b[1m[1:chain:RunnableSequence > 2:chain:RunnableParallel<input,top_k,table_info> > 3:chain:<lambda>] [1ms] Exiting Chain run with output:\n",
      "\u001b[0m{\n",
      "  \"output\": 5\n",
      "}\n",
      "\u001b[32;1m\u001b[1;3m[chain/start]\u001b[0m \u001b[1m[1:chain:RunnableSequence > 2:chain:RunnableParallel<input,top_k,table_info> > 4:chain:<lambda>] Entering Chain run with input:\n",
      "\u001b[0m{\n",
      "  \"question\": \"which age group has the most views?\"\n",
      "}\n",
      "\u001b[36;1m\u001b[1;3m[chain/end]\u001b[0m \u001b[1m[1:chain:RunnableSequence > 2:chain:RunnableParallel<input,top_k,table_info> > 4:chain:<lambda>] [1ms] Exiting Chain run with output:\n",
      "\u001b[0m{\n",
      "  \"output\": \"which age group has the most views?\\nSQLQuery: \"\n",
      "}\n",
      "\u001b[32;1m\u001b[1;3m[chain/start]\u001b[0m \u001b[1m[1:chain:RunnableSequence > 2:chain:RunnableParallel<input,top_k,table_info> > 5:chain:<lambda>] Entering Chain run with input:\n",
      "\u001b[0m{\n",
      "  \"question\": \"which age group has the most views?\"\n",
      "}\n",
      "\u001b[36;1m\u001b[1;3m[chain/end]\u001b[0m \u001b[1m[1:chain:RunnableSequence > 2:chain:RunnableParallel<input,top_k,table_info> > 5:chain:<lambda>] [48ms] Exiting Chain run with output:\n",
      "\u001b[0m{\n",
      "  \"output\": \"\\nCREATE TABLE cities_chart_data (\\n\\t\\\"Date\\\" DATE, \\n\\t\\\"Cities\\\" TEXT, \\n\\t\\\"City_name\\\" TEXT, \\n\\t\\\"Views\\\" INTEGER\\n)\\n\\n/*\\n3 rows from cities_chart_data table:\\nDate\\tCities\\tCity_name\\tViews\\n2020-06-28\\t0x164b85cef5ab402d:0x8467b6b037a24d49\\tAddis Ababa\\t0\\n2020-06-29\\t0x164b85cef5ab402d:0x8467b6b037a24d49\\tAddis Ababa\\t0\\n2020-06-30\\t0x164b85cef5ab402d:0x8467b6b037a24d49\\tAddis Ababa\\t0\\n*/\\n\\n\\nCREATE TABLE cities_table_data (\\n\\t\\\"Cities\\\" TEXT, \\n\\t\\\"City_name\\\" TEXT, \\n\\t\\\"Geography\\\" TEXT, \\n\\t\\\"Geography.1\\\" TEXT, \\n\\t\\\"Views\\\" BIGINT, \\n\\t\\\"Watch_time_in_hours\\\" DOUBLE PRECISION, \\n\\t\\\"Average_view_duration\\\" TIME WITHOUT TIME ZONE\\n)\\n\\n/*\\n3 rows from cities_table_data table:\\nCities\\tCity_name\\tGeography\\tGeography.1\\tViews\\tWatch_time_in_hours\\tAverage_view_duration\\nTotal\\tNone\\tNone\\tNone\\t26625\\t2157.3497\\t00:04:51\\n0x164b85cef5ab402d:0x8467b6b037a24d49\\tAddis Ababa\\tET\\tET-AA\\t1252\\t127.5042\\t00:06:06\\n0x487a4d4c5226f5db:0xd9be143804fe6baa\\tManchester\\tGB\\tGB-ENG\\t23\\t0.0402\\t00:00:06\\n*/\\n\\n\\nCREATE TABLE content_type_chart_data (\\n\\t\\\"Date\\\" DATE, \\n\\t\\\"Content_type\\\" TEXT, \\n\\t\\\"Views\\\" BIGINT\\n)\\n\\n/*\\n3 rows from content_type_chart_data table:\\nDate\\tContent_type\\tViews\\n2020-06-28\\tOther\\t0\\n2020-06-29\\tOther\\t0\\n2020-06-30\\tOther\\t0\\n*/\\n\\n\\nCREATE TABLE content_type_table_data (\\n\\t\\\"Content_type\\\" TEXT, \\n\\t\\\"Views\\\" BIGINT, \\n\\t\\\"Watch_time_in_hours\\\" DOUBLE PRECISION, \\n\\t\\\"Average_view_duration\\\" TIME WITHOUT TIME ZONE\\n)\\n\\n/*\\n3 rows from content_type_table_data table:\\nContent_type\\tViews\\tWatch_time_in_hours\\tAverage_view_duration\\nTotal\\t26625\\t2157.3497\\t00:04:51\\nVideos\\t26614\\t2157.1948\\t00:04:51\\nOther\\t11\\t0.1549\\t00:00:50\\n*/\\n\\n\\nCREATE TABLE device_type_chart_data (\\n\\t\\\"Date\\\" DATE, \\n\\t\\\"Device_type\\\" TEXT, \\n\\t\\\"Views\\\" BIGINT\\n)\\n\\n/*\\n3 rows from device_type_chart_data table:\\nDate\\tDevice_type\\tViews\\n2020-06-28\\tComputer\\t1\\n2020-06-29\\tComputer\\t49\\n2020-06-30\\tComputer\\t62\\n*/\\n\\n\\nCREATE TABLE device_type_table_data (\\n\\t\\\"Device_type\\\" TEXT, \\n\\t\\\"Views\\\" BIGINT, \\n\\t\\\"Watch_time_in_hours\\\" DOUBLE PRECISION, \\n\\t\\\"Average_view_duration\\\" TIME WITHOUT TIME ZONE\\n)\\n\\n/*\\n3 rows from device_type_table_data table:\\nDevice_type\\tViews\\tWatch_time_in_hours\\tAverage_view_duration\\nTotal\\t26625\\t2157.3497\\t00:04:51\\nComputer\\t19267\\t1709.2645\\t00:05:19\\nMobile phone\\t6885\\t413.0522\\t00:03:35\\n*/\\n\\n\\nCREATE TABLE geography_chart_data (\\n\\t\\\"Date\\\" DATE, \\n\\t\\\"Geography\\\" TEXT, \\n\\t\\\"Views\\\" BIGINT\\n)\\n\\n/*\\n3 rows from geography_chart_data table:\\nDate\\tGeography\\tViews\\n2020-06-28\\tBJ\\t0\\n2020-06-29\\tBJ\\t0\\n2020-06-30\\tBJ\\t0\\n*/\\n\\n\\nCREATE TABLE geography_table_data (\\n\\t\\\"Geography\\\" TEXT, \\n\\t\\\"Views\\\" BIGINT, \\n\\t\\\"Watch_time_in_hours\\\" DOUBLE PRECISION, \\n\\t\\\"Average_view_duration\\\" TIME WITHOUT TIME ZONE\\n)\\n\\n/*\\n3 rows from geography_table_data table:\\nGeography\\tViews\\tWatch_time_in_hours\\tAverage_view_duration\\nTotal\\t26625\\t2157.3497\\t00:04:51\\nET\\t10903\\t958.4972\\t00:05:16\\nNG\\t854\\t103.8847\\t00:07:17\\n*/\\n\\n\\nCREATE TABLE new_and_returning_viewers_chart_data (\\n\\t\\\"Date\\\" DATE, \\n\\t\\\"New_and_returning_viewers\\\" TEXT, \\n\\t\\\"Views\\\" BIGINT\\n)\\n\\n/*\\n3 rows from new_and_returning_viewers_chart_data table:\\nDate\\tNew_and_returning_viewers\\tViews\\n2020-06-28\\tUnknown\\t1\\n2020-06-29\\tUnknown\\t72\\n2020-06-30\\tUnknown\\t76\\n*/\\n\\n\\nCREATE TABLE new_and_returning_viewers_table_data (\\n\\t\\\"New_and_returning_viewers\\\" TEXT, \\n\\t\\\"Views\\\" BIGINT, \\n\\t\\\"Watch_time_in_hours\\\" DOUBLE PRECISION, \\n\\t\\\"Average_view_duration\\\" TIME WITHOUT TIME ZONE\\n)\\n\\n/*\\n3 rows from new_and_returning_viewers_table_data table:\\nNew_and_returning_viewers\\tViews\\tWatch_time_in_hours\\tAverage_view_duration\\nTotal\\t26625\\t2157.3497\\t00:04:51\\nUnknown\\t22316\\t1833.939\\t00:04:55\\nReturning viewers\\t3215\\t276.4819\\t00:05:09\\n*/\\n\\n\\nCREATE TABLE operating_system_chart_data (\\n\\t\\\"Date\\\" DATE, \\n\\t\\\"Operating_system\\\" TEXT, \\n\\t\\\"Views\\\" BIGINT\\n)\\n\\n/*\\n3 rows from operating_system_chart_data table:\\nDate\\tOperating_system\\tViews\\n2020-06-28\\tUnknown\\t0\\n2020-06-29\\tUnknown\\t0\\n2020-06-30\\tUnknown\\t0\\n*/\\n\\n\\nCREATE TABLE operating_system_table_data (\\n\\t\\\"Operating_system\\\" TEXT, \\n\\t\\\"Views\\\" BIGINT, \\n\\t\\\"Watch_time_in_hours\\\" DOUBLE PRECISION, \\n\\t\\\"Average_view_duration\\\" TIME WITHOUT TIME ZONE\\n)\\n\\n/*\\n3 rows from operating_system_table_data table:\\nOperating_system\\tViews\\tWatch_time_in_hours\\tAverage_view_duration\\nTotal\\t26625\\t2157.3497\\t00:04:51\\nWindows\\t12506\\t1099.1683\\t00:05:16\\nAndroid\\t6089\\t381.0323\\t00:03:45\\n*/\\n\\n\\nCREATE TABLE sharing_service_chart_data (\\n\\t\\\"Date\\\" DATE, \\n\\t\\\"Sharing_service\\\" TEXT, \\n\\t\\\"Shares\\\" BIGINT\\n)\\n\\n/*\\n3 rows from sharing_service_chart_data table:\\nDate\\tSharing_service\\tShares\\n2020-06-28\\tFacebook\\t0\\n2020-06-29\\tFacebook\\t0\\n2020-06-30\\tFacebook\\t0\\n*/\\n\\n\\nCREATE TABLE sharing_service_table_data (\\n\\t\\\"Sharing_service\\\" TEXT, \\n\\t\\\"Shares\\\" BIGINT\\n)\\n\\n/*\\n3 rows from sharing_service_table_data table:\\nSharing_service\\tShares\\nTotal\\t135\\nCopy to Clipboard\\t47\\nWhatsApp\\t42\\n*/\\n\\n\\nCREATE TABLE subscription_source_chart_data (\\n\\t\\\"Date\\\" DATE, \\n\\t\\\"Subscription_source\\\" TEXT, \\n\\t\\\"Subscribers\\\" BIGINT\\n)\\n\\n/*\\n3 rows from subscription_source_chart_data table:\\nDate\\tSubscription_source\\tSubscribers\\n2020-06-28\\tOther\\t0\\n2020-06-29\\tOther\\t0\\n2020-06-30\\tOther\\t0\\n*/\\n\\n\\nCREATE TABLE subscription_source_table_data (\\n\\t\\\"Subscription_source\\\" TEXT, \\n\\t\\\"Subscribers\\\" BIGINT, \\n\\t\\\"Subscribers_gained\\\" BIGINT, \\n\\t\\\"Subscribers_lost\\\" BIGINT\\n)\\n\\n/*\\n3 rows from subscription_source_table_data table:\\nSubscription_source\\tSubscribers\\tSubscribers_gained\\tSubscribers_lost\\nTotal\\t417\\t528\\t111\\nYouTube watch-page\\t197\\t209\\t12\\nYour YouTube channel\\t157\\t182\\t25\\n*/\\n\\n\\nCREATE TABLE subscription_status_chart_data (\\n\\t\\\"Date\\\" DATE, \\n\\t\\\"Subscription_status\\\" TEXT, \\n\\t\\\"Views\\\" BIGINT\\n)\\n\\n/*\\n3 rows from subscription_status_chart_data table:\\nDate\\tSubscription_status\\tViews\\n2020-06-28\\tSubscribed\\t1\\n2020-06-29\\tSubscribed\\t16\\n2020-06-30\\tSubscribed\\t23\\n*/\\n\\n\\nCREATE TABLE subscription_status_table_data (\\n\\t\\\"Subscription_status\\\" TEXT, \\n\\t\\\"Views\\\" BIGINT, \\n\\t\\\"Watch_time_in_hours\\\" DOUBLE PRECISION, \\n\\t\\\"Average_view_duration\\\" TIME WITHOUT TIME ZONE\\n)\\n\\n/*\\n3 rows from subscription_status_table_data table:\\nSubscription_status\\tViews\\tWatch_time_in_hours\\tAverage_view_duration\\nTotal\\t26625\\t2157.3497\\t00:04:51\\nSubscribed\\t13621\\t1318.3326\\t00:05:48\\nNot subscribed\\t13004\\t839.0171\\t00:03:52\\n*/\\n\\n\\nCREATE TABLE subtitles_and_cc_chart_data (\\n\\t\\\"Date\\\" DATE, \\n\\t\\\"Subtitles_and_CC\\\" TEXT, \\n\\t\\\"Views\\\" BIGINT\\n)\\n\\n/*\\n3 rows from subtitles_and_cc_chart_data table:\\nDate\\tSubtitles_and_CC\\tViews\\n2020-06-28\\tNone\\t1\\n2020-06-29\\tNone\\t70\\n2020-06-30\\tNone\\t76\\n*/\\n\\n\\nCREATE TABLE subtitles_and_cc_table_data (\\n\\t\\\"Subtitles_and_CC\\\" TEXT, \\n\\t\\\"Views\\\" BIGINT, \\n\\t\\\"Watch_time_in_hours\\\" DOUBLE PRECISION, \\n\\t\\\"Average_view_duration\\\" TIME WITHOUT TIME ZONE\\n)\\n\\n/*\\n3 rows from subtitles_and_cc_table_data table:\\nSubtitles_and_CC\\tViews\\tWatch_time_in_hours\\tAverage_view_duration\\nTotal\\t26625\\t2157.3497\\t00:04:51\\nNone\\t25091\\t2019.2411\\t00:04:49\\nen\\t1499\\t136.6345\\t00:05:28\\n*/\\n\\n\\nCREATE TABLE traffic_source_chart_data (\\n\\t\\\"Date\\\" DATE, \\n\\t\\\"Traffic_source\\\" TEXT, \\n\\t\\\"Views\\\" BIGINT\\n)\\n\\n/*\\n3 rows from traffic_source_chart_data table:\\nDate\\tTraffic_source\\tViews\\n2020-06-28\\tDirect or unknown\\t0\\n2020-06-29\\tDirect or unknown\\t6\\n2020-06-30\\tDirect or unknown\\t2\\n*/\\n\\n\\nCREATE TABLE traffic_source_table_data (\\n\\t\\\"Traffic_source\\\" TEXT, \\n\\t\\\"Views\\\" DOUBLE PRECISION, \\n\\t\\\"Watch_time_in_hours\\\" DOUBLE PRECISION, \\n\\t\\\"Average_view_duration\\\" TIME WITHOUT TIME ZONE, \\n\\t\\\"Impressions\\\" DOUBLE PRECISION, \\n\\t\\\"Impressions_click_through_rate_in_percent\\\" DOUBLE PRECISION\\n)\\n\\n/*\\n3 rows from traffic_source_table_data table:\\nTraffic_source\\tViews\\tWatch_time_in_hours\\tAverage_view_duration\\tImpressions\\tImpressions_click_through_rate_in_percent\\nTotal\\t26625.0\\t2157.3497\\t00:04:51\\t606516.0\\t2.45\\nChannel pages\\t8444.0\\t780.234\\t00:05:32\\t218825.0\\t2.95\\nBrowse features\\t4759.0\\t321.8387\\t00:04:03\\t109132.0\\t3.43\\n*/\\n\\n\\nCREATE TABLE viewer_age_table_data (\\n\\t\\\"Viewer_age\\\" TEXT, \\n\\t\\\"Views_in_percent\\\" DOUBLE PRECISION, \\n\\t\\\"Average_view_duration\\\" TIME WITHOUT TIME ZONE, \\n\\t\\\"Average_percentage_viewed_in_percent\\\" DOUBLE PRECISION, \\n\\t\\\"Watch_time_hours_in_percent\\\" DOUBLE PRECISION\\n)\\n\\n/*\\n3 rows from viewer_age_table_data table:\\nViewer_age\\tViews_in_percent\\tAverage_view_duration\\tAverage_percentage_viewed_in_percent\\tWatch_time_hours_in_percent\\n13–17 years\\t0.49\\t00:00:08\\t0.27\\t0.01\\n18–24 years\\t23.27\\t00:05:17\\t9.75\\t26.91\\n25–34 years\\t72.7\\t00:04:30\\t8.08\\t71.66\\n*/\\n\\n\\nCREATE TABLE viewer_gender_table_data (\\n\\t\\\"Viewer_gender\\\" TEXT, \\n\\t\\\"Views_in_percent\\\" DOUBLE PRECISION, \\n\\t\\\"Average_view_duration\\\" TIME WITHOUT TIME ZONE, \\n\\t\\\"Average_percentage_viewed_in_percent\\\" DOUBLE PRECISION, \\n\\t\\\"Watch_time_hours_in_percent\\\" DOUBLE PRECISION\\n)\\n\\n/*\\n3 rows from viewer_gender_table_data table:\\nViewer_gender\\tViews_in_percent\\tAverage_view_duration\\tAverage_percentage_viewed_in_percent\\tWatch_time_hours_in_percent\\nFemale\\t20.16\\t00:05:23\\t9.36\\t23.38\\nMale\\t79.84\\t00:04:27\\t7.83\\t76.62\\n*/\\n\\n\\nCREATE TABLE viewership_by_date_table_data (\\n\\t\\\"Date\\\" TEXT, \\n\\t\\\"Views\\\" DOUBLE PRECISION, \\n\\t\\\"Watch_time_in_hours\\\" DOUBLE PRECISION, \\n\\t\\\"Average_view_duration\\\" TIME WITHOUT TIME ZONE\\n)\\n\\n/*\\n3 rows from viewership_by_date_table_data table:\\nDate\\tViews\\tWatch_time_in_hours\\tAverage_view_duration\\nTotal\\t26625.0\\t2157.3497\\t00:04:51\\n12/28/2023\\t25.0\\t0.3236\\t00:00:46\\n12/27/2023\\t8.0\\t0.2989\\t00:02:14\\n*/\\n\\n\\nCREATE TABLE views_by_date (\\n\\t\\\"Date\\\" DATE, \\n\\t\\\"Views\\\" BIGINT\\n)\\n\\n/*\\n3 rows from views_by_date table:\\nDate\\tViews\\n2020-06-28\\t1\\n2020-06-29\\t72\\n2020-06-30\\t76\\n*/\"\n",
      "}\n",
      "\u001b[36;1m\u001b[1;3m[chain/end]\u001b[0m \u001b[1m[1:chain:RunnableSequence > 2:chain:RunnableParallel<input,top_k,table_info>] [60ms] Exiting Chain run with output:\n",
      "\u001b[0m{\n",
      "  \"input\": \"which age group has the most views?\\nSQLQuery: \",\n",
      "  \"top_k\": 5,\n",
      "  \"table_info\": \"\\nCREATE TABLE cities_chart_data (\\n\\t\\\"Date\\\" DATE, \\n\\t\\\"Cities\\\" TEXT, \\n\\t\\\"City_name\\\" TEXT, \\n\\t\\\"Views\\\" INTEGER\\n)\\n\\n/*\\n3 rows from cities_chart_data table:\\nDate\\tCities\\tCity_name\\tViews\\n2020-06-28\\t0x164b85cef5ab402d:0x8467b6b037a24d49\\tAddis Ababa\\t0\\n2020-06-29\\t0x164b85cef5ab402d:0x8467b6b037a24d49\\tAddis Ababa\\t0\\n2020-06-30\\t0x164b85cef5ab402d:0x8467b6b037a24d49\\tAddis Ababa\\t0\\n*/\\n\\n\\nCREATE TABLE cities_table_data (\\n\\t\\\"Cities\\\" TEXT, \\n\\t\\\"City_name\\\" TEXT, \\n\\t\\\"Geography\\\" TEXT, \\n\\t\\\"Geography.1\\\" TEXT, \\n\\t\\\"Views\\\" BIGINT, \\n\\t\\\"Watch_time_in_hours\\\" DOUBLE PRECISION, \\n\\t\\\"Average_view_duration\\\" TIME WITHOUT TIME ZONE\\n)\\n\\n/*\\n3 rows from cities_table_data table:\\nCities\\tCity_name\\tGeography\\tGeography.1\\tViews\\tWatch_time_in_hours\\tAverage_view_duration\\nTotal\\tNone\\tNone\\tNone\\t26625\\t2157.3497\\t00:04:51\\n0x164b85cef5ab402d:0x8467b6b037a24d49\\tAddis Ababa\\tET\\tET-AA\\t1252\\t127.5042\\t00:06:06\\n0x487a4d4c5226f5db:0xd9be143804fe6baa\\tManchester\\tGB\\tGB-ENG\\t23\\t0.0402\\t00:00:06\\n*/\\n\\n\\nCREATE TABLE content_type_chart_data (\\n\\t\\\"Date\\\" DATE, \\n\\t\\\"Content_type\\\" TEXT, \\n\\t\\\"Views\\\" BIGINT\\n)\\n\\n/*\\n3 rows from content_type_chart_data table:\\nDate\\tContent_type\\tViews\\n2020-06-28\\tOther\\t0\\n2020-06-29\\tOther\\t0\\n2020-06-30\\tOther\\t0\\n*/\\n\\n\\nCREATE TABLE content_type_table_data (\\n\\t\\\"Content_type\\\" TEXT, \\n\\t\\\"Views\\\" BIGINT, \\n\\t\\\"Watch_time_in_hours\\\" DOUBLE PRECISION, \\n\\t\\\"Average_view_duration\\\" TIME WITHOUT TIME ZONE\\n)\\n\\n/*\\n3 rows from content_type_table_data table:\\nContent_type\\tViews\\tWatch_time_in_hours\\tAverage_view_duration\\nTotal\\t26625\\t2157.3497\\t00:04:51\\nVideos\\t26614\\t2157.1948\\t00:04:51\\nOther\\t11\\t0.1549\\t00:00:50\\n*/\\n\\n\\nCREATE TABLE device_type_chart_data (\\n\\t\\\"Date\\\" DATE, \\n\\t\\\"Device_type\\\" TEXT, \\n\\t\\\"Views\\\" BIGINT\\n)\\n\\n/*\\n3 rows from device_type_chart_data table:\\nDate\\tDevice_type\\tViews\\n2020-06-28\\tComputer\\t1\\n2020-06-29\\tComputer\\t49\\n2020-06-30\\tComputer\\t62\\n*/\\n\\n\\nCREATE TABLE device_type_table_data (\\n\\t\\\"Device_type\\\" TEXT, \\n\\t\\\"Views\\\" BIGINT, \\n\\t\\\"Watch_time_in_hours\\\" DOUBLE PRECISION, \\n\\t\\\"Average_view_duration\\\" TIME WITHOUT TIME ZONE\\n)\\n\\n/*\\n3 rows from device_type_table_data table:\\nDevice_type\\tViews\\tWatch_time_in_hours\\tAverage_view_duration\\nTotal\\t26625\\t2157.3497\\t00:04:51\\nComputer\\t19267\\t1709.2645\\t00:05:19\\nMobile phone\\t6885\\t413.0522\\t00:03:35\\n*/\\n\\n\\nCREATE TABLE geography_chart_data (\\n\\t\\\"Date\\\" DATE, \\n\\t\\\"Geography\\\" TEXT, \\n\\t\\\"Views\\\" BIGINT\\n)\\n\\n/*\\n3 rows from geography_chart_data table:\\nDate\\tGeography\\tViews\\n2020-06-28\\tBJ\\t0\\n2020-06-29\\tBJ\\t0\\n2020-06-30\\tBJ\\t0\\n*/\\n\\n\\nCREATE TABLE geography_table_data (\\n\\t\\\"Geography\\\" TEXT, \\n\\t\\\"Views\\\" BIGINT, \\n\\t\\\"Watch_time_in_hours\\\" DOUBLE PRECISION, \\n\\t\\\"Average_view_duration\\\" TIME WITHOUT TIME ZONE\\n)\\n\\n/*\\n3 rows from geography_table_data table:\\nGeography\\tViews\\tWatch_time_in_hours\\tAverage_view_duration\\nTotal\\t26625\\t2157.3497\\t00:04:51\\nET\\t10903\\t958.4972\\t00:05:16\\nNG\\t854\\t103.8847\\t00:07:17\\n*/\\n\\n\\nCREATE TABLE new_and_returning_viewers_chart_data (\\n\\t\\\"Date\\\" DATE, \\n\\t\\\"New_and_returning_viewers\\\" TEXT, \\n\\t\\\"Views\\\" BIGINT\\n)\\n\\n/*\\n3 rows from new_and_returning_viewers_chart_data table:\\nDate\\tNew_and_returning_viewers\\tViews\\n2020-06-28\\tUnknown\\t1\\n2020-06-29\\tUnknown\\t72\\n2020-06-30\\tUnknown\\t76\\n*/\\n\\n\\nCREATE TABLE new_and_returning_viewers_table_data (\\n\\t\\\"New_and_returning_viewers\\\" TEXT, \\n\\t\\\"Views\\\" BIGINT, \\n\\t\\\"Watch_time_in_hours\\\" DOUBLE PRECISION, \\n\\t\\\"Average_view_duration\\\" TIME WITHOUT TIME ZONE\\n)\\n\\n/*\\n3 rows from new_and_returning_viewers_table_data table:\\nNew_and_returning_viewers\\tViews\\tWatch_time_in_hours\\tAverage_view_duration\\nTotal\\t26625\\t2157.3497\\t00:04:51\\nUnknown\\t22316\\t1833.939\\t00:04:55\\nReturning viewers\\t3215\\t276.4819\\t00:05:09\\n*/\\n\\n\\nCREATE TABLE operating_system_chart_data (\\n\\t\\\"Date\\\" DATE, \\n\\t\\\"Operating_system\\\" TEXT, \\n\\t\\\"Views\\\" BIGINT\\n)\\n\\n/*\\n3 rows from operating_system_chart_data table:\\nDate\\tOperating_system\\tViews\\n2020-06-28\\tUnknown\\t0\\n2020-06-29\\tUnknown\\t0\\n2020-06-30\\tUnknown\\t0\\n*/\\n\\n\\nCREATE TABLE operating_system_table_data (\\n\\t\\\"Operating_system\\\" TEXT, \\n\\t\\\"Views\\\" BIGINT, \\n\\t\\\"Watch_time_in_hours\\\" DOUBLE PRECISION, \\n\\t\\\"Average_view_duration\\\" TIME WITHOUT TIME ZONE\\n)\\n\\n/*\\n3 rows from operating_system_table_data table:\\nOperating_system\\tViews\\tWatch_time_in_hours\\tAverage_view_duration\\nTotal\\t26625\\t2157.3497\\t00:04:51\\nWindows\\t12506\\t1099.1683\\t00:05:16\\nAndroid\\t6089\\t381.0323\\t00:03:45\\n*/\\n\\n\\nCREATE TABLE sharing_service_chart_data (\\n\\t\\\"Date\\\" DATE, \\n\\t\\\"Sharing_service\\\" TEXT, \\n\\t\\\"Shares\\\" BIGINT\\n)\\n\\n/*\\n3 rows from sharing_service_chart_data table:\\nDate\\tSharing_service\\tShares\\n2020-06-28\\tFacebook\\t0\\n2020-06-29\\tFacebook\\t0\\n2020-06-30\\tFacebook\\t0\\n*/\\n\\n\\nCREATE TABLE sharing_service_table_data (\\n\\t\\\"Sharing_service\\\" TEXT, \\n\\t\\\"Shares\\\" BIGINT\\n)\\n\\n/*\\n3 rows from sharing_service_table_data table:\\nSharing_service\\tShares\\nTotal\\t135\\nCopy to Clipboard\\t47\\nWhatsApp\\t42\\n*/\\n\\n\\nCREATE TABLE subscription_source_chart_data (\\n\\t\\\"Date\\\" DATE, \\n\\t\\\"Subscription_source\\\" TEXT, \\n\\t\\\"Subscribers\\\" BIGINT\\n)\\n\\n/*\\n3 rows from subscription_source_chart_data table:\\nDate\\tSubscription_source\\tSubscribers\\n2020-06-28\\tOther\\t0\\n2020-06-29\\tOther\\t0\\n2020-06-30\\tOther\\t0\\n*/\\n\\n\\nCREATE TABLE subscription_source_table_data (\\n\\t\\\"Subscription_source\\\" TEXT, \\n\\t\\\"Subscribers\\\" BIGINT, \\n\\t\\\"Subscribers_gained\\\" BIGINT, \\n\\t\\\"Subscribers_lost\\\" BIGINT\\n)\\n\\n/*\\n3 rows from subscription_source_table_data table:\\nSubscription_source\\tSubscribers\\tSubscribers_gained\\tSubscribers_lost\\nTotal\\t417\\t528\\t111\\nYouTube watch-page\\t197\\t209\\t12\\nYour YouTube channel\\t157\\t182\\t25\\n*/\\n\\n\\nCREATE TABLE subscription_status_chart_data (\\n\\t\\\"Date\\\" DATE, \\n\\t\\\"Subscription_status\\\" TEXT, \\n\\t\\\"Views\\\" BIGINT\\n)\\n\\n/*\\n3 rows from subscription_status_chart_data table:\\nDate\\tSubscription_status\\tViews\\n2020-06-28\\tSubscribed\\t1\\n2020-06-29\\tSubscribed\\t16\\n2020-06-30\\tSubscribed\\t23\\n*/\\n\\n\\nCREATE TABLE subscription_status_table_data (\\n\\t\\\"Subscription_status\\\" TEXT, \\n\\t\\\"Views\\\" BIGINT, \\n\\t\\\"Watch_time_in_hours\\\" DOUBLE PRECISION, \\n\\t\\\"Average_view_duration\\\" TIME WITHOUT TIME ZONE\\n)\\n\\n/*\\n3 rows from subscription_status_table_data table:\\nSubscription_status\\tViews\\tWatch_time_in_hours\\tAverage_view_duration\\nTotal\\t26625\\t2157.3497\\t00:04:51\\nSubscribed\\t13621\\t1318.3326\\t00:05:48\\nNot subscribed\\t13004\\t839.0171\\t00:03:52\\n*/\\n\\n\\nCREATE TABLE subtitles_and_cc_chart_data (\\n\\t\\\"Date\\\" DATE, \\n\\t\\\"Subtitles_and_CC\\\" TEXT, \\n\\t\\\"Views\\\" BIGINT\\n)\\n\\n/*\\n3 rows from subtitles_and_cc_chart_data table:\\nDate\\tSubtitles_and_CC\\tViews\\n2020-06-28\\tNone\\t1\\n2020-06-29\\tNone\\t70\\n2020-06-30\\tNone\\t76\\n*/\\n\\n\\nCREATE TABLE subtitles_and_cc_table_data (\\n\\t\\\"Subtitles_and_CC\\\" TEXT, \\n\\t\\\"Views\\\" BIGINT, \\n\\t\\\"Watch_time_in_hours\\\" DOUBLE PRECISION, \\n\\t\\\"Average_view_duration\\\" TIME WITHOUT TIME ZONE\\n)\\n\\n/*\\n3 rows from subtitles_and_cc_table_data table:\\nSubtitles_and_CC\\tViews\\tWatch_time_in_hours\\tAverage_view_duration\\nTotal\\t26625\\t2157.3497\\t00:04:51\\nNone\\t25091\\t2019.2411\\t00:04:49\\nen\\t1499\\t136.6345\\t00:05:28\\n*/\\n\\n\\nCREATE TABLE traffic_source_chart_data (\\n\\t\\\"Date\\\" DATE, \\n\\t\\\"Traffic_source\\\" TEXT, \\n\\t\\\"Views\\\" BIGINT\\n)\\n\\n/*\\n3 rows from traffic_source_chart_data table:\\nDate\\tTraffic_source\\tViews\\n2020-06-28\\tDirect or unknown\\t0\\n2020-06-29\\tDirect or unknown\\t6\\n2020-06-30\\tDirect or unknown\\t2\\n*/\\n\\n\\nCREATE TABLE traffic_source_table_data (\\n\\t\\\"Traffic_source\\\" TEXT, \\n\\t\\\"Views\\\" DOUBLE PRECISION, \\n\\t\\\"Watch_time_in_hours\\\" DOUBLE PRECISION, \\n\\t\\\"Average_view_duration\\\" TIME WITHOUT TIME ZONE, \\n\\t\\\"Impressions\\\" DOUBLE PRECISION, \\n\\t\\\"Impressions_click_through_rate_in_percent\\\" DOUBLE PRECISION\\n)\\n\\n/*\\n3 rows from traffic_source_table_data table:\\nTraffic_source\\tViews\\tWatch_time_in_hours\\tAverage_view_duration\\tImpressions\\tImpressions_click_through_rate_in_percent\\nTotal\\t26625.0\\t2157.3497\\t00:04:51\\t606516.0\\t2.45\\nChannel pages\\t8444.0\\t780.234\\t00:05:32\\t218825.0\\t2.95\\nBrowse features\\t4759.0\\t321.8387\\t00:04:03\\t109132.0\\t3.43\\n*/\\n\\n\\nCREATE TABLE viewer_age_table_data (\\n\\t\\\"Viewer_age\\\" TEXT, \\n\\t\\\"Views_in_percent\\\" DOUBLE PRECISION, \\n\\t\\\"Average_view_duration\\\" TIME WITHOUT TIME ZONE, \\n\\t\\\"Average_percentage_viewed_in_percent\\\" DOUBLE PRECISION, \\n\\t\\\"Watch_time_hours_in_percent\\\" DOUBLE PRECISION\\n)\\n\\n/*\\n3 rows from viewer_age_table_data table:\\nViewer_age\\tViews_in_percent\\tAverage_view_duration\\tAverage_percentage_viewed_in_percent\\tWatch_time_hours_in_percent\\n13–17 years\\t0.49\\t00:00:08\\t0.27\\t0.01\\n18–24 years\\t23.27\\t00:05:17\\t9.75\\t26.91\\n25–34 years\\t72.7\\t00:04:30\\t8.08\\t71.66\\n*/\\n\\n\\nCREATE TABLE viewer_gender_table_data (\\n\\t\\\"Viewer_gender\\\" TEXT, \\n\\t\\\"Views_in_percent\\\" DOUBLE PRECISION, \\n\\t\\\"Average_view_duration\\\" TIME WITHOUT TIME ZONE, \\n\\t\\\"Average_percentage_viewed_in_percent\\\" DOUBLE PRECISION, \\n\\t\\\"Watch_time_hours_in_percent\\\" DOUBLE PRECISION\\n)\\n\\n/*\\n3 rows from viewer_gender_table_data table:\\nViewer_gender\\tViews_in_percent\\tAverage_view_duration\\tAverage_percentage_viewed_in_percent\\tWatch_time_hours_in_percent\\nFemale\\t20.16\\t00:05:23\\t9.36\\t23.38\\nMale\\t79.84\\t00:04:27\\t7.83\\t76.62\\n*/\\n\\n\\nCREATE TABLE viewership_by_date_table_data (\\n\\t\\\"Date\\\" TEXT, \\n\\t\\\"Views\\\" DOUBLE PRECISION, \\n\\t\\\"Watch_time_in_hours\\\" DOUBLE PRECISION, \\n\\t\\\"Average_view_duration\\\" TIME WITHOUT TIME ZONE\\n)\\n\\n/*\\n3 rows from viewership_by_date_table_data table:\\nDate\\tViews\\tWatch_time_in_hours\\tAverage_view_duration\\nTotal\\t26625.0\\t2157.3497\\t00:04:51\\n12/28/2023\\t25.0\\t0.3236\\t00:00:46\\n12/27/2023\\t8.0\\t0.2989\\t00:02:14\\n*/\\n\\n\\nCREATE TABLE views_by_date (\\n\\t\\\"Date\\\" DATE, \\n\\t\\\"Views\\\" BIGINT\\n)\\n\\n/*\\n3 rows from views_by_date table:\\nDate\\tViews\\n2020-06-28\\t1\\n2020-06-29\\t72\\n2020-06-30\\t76\\n*/\"\n",
      "}\n",
      "\u001b[32;1m\u001b[1;3m[chain/start]\u001b[0m \u001b[1m[1:chain:RunnableSequence > 6:prompt:PromptTemplate] Entering Prompt run with input:\n",
      "\u001b[0m{\n",
      "  \"input\": \"which age group has the most views?\\nSQLQuery: \",\n",
      "  \"top_k\": 5,\n",
      "  \"table_info\": \"\\nCREATE TABLE cities_chart_data (\\n\\t\\\"Date\\\" DATE, \\n\\t\\\"Cities\\\" TEXT, \\n\\t\\\"City_name\\\" TEXT, \\n\\t\\\"Views\\\" INTEGER\\n)\\n\\n/*\\n3 rows from cities_chart_data table:\\nDate\\tCities\\tCity_name\\tViews\\n2020-06-28\\t0x164b85cef5ab402d:0x8467b6b037a24d49\\tAddis Ababa\\t0\\n2020-06-29\\t0x164b85cef5ab402d:0x8467b6b037a24d49\\tAddis Ababa\\t0\\n2020-06-30\\t0x164b85cef5ab402d:0x8467b6b037a24d49\\tAddis Ababa\\t0\\n*/\\n\\n\\nCREATE TABLE cities_table_data (\\n\\t\\\"Cities\\\" TEXT, \\n\\t\\\"City_name\\\" TEXT, \\n\\t\\\"Geography\\\" TEXT, \\n\\t\\\"Geography.1\\\" TEXT, \\n\\t\\\"Views\\\" BIGINT, \\n\\t\\\"Watch_time_in_hours\\\" DOUBLE PRECISION, \\n\\t\\\"Average_view_duration\\\" TIME WITHOUT TIME ZONE\\n)\\n\\n/*\\n3 rows from cities_table_data table:\\nCities\\tCity_name\\tGeography\\tGeography.1\\tViews\\tWatch_time_in_hours\\tAverage_view_duration\\nTotal\\tNone\\tNone\\tNone\\t26625\\t2157.3497\\t00:04:51\\n0x164b85cef5ab402d:0x8467b6b037a24d49\\tAddis Ababa\\tET\\tET-AA\\t1252\\t127.5042\\t00:06:06\\n0x487a4d4c5226f5db:0xd9be143804fe6baa\\tManchester\\tGB\\tGB-ENG\\t23\\t0.0402\\t00:00:06\\n*/\\n\\n\\nCREATE TABLE content_type_chart_data (\\n\\t\\\"Date\\\" DATE, \\n\\t\\\"Content_type\\\" TEXT, \\n\\t\\\"Views\\\" BIGINT\\n)\\n\\n/*\\n3 rows from content_type_chart_data table:\\nDate\\tContent_type\\tViews\\n2020-06-28\\tOther\\t0\\n2020-06-29\\tOther\\t0\\n2020-06-30\\tOther\\t0\\n*/\\n\\n\\nCREATE TABLE content_type_table_data (\\n\\t\\\"Content_type\\\" TEXT, \\n\\t\\\"Views\\\" BIGINT, \\n\\t\\\"Watch_time_in_hours\\\" DOUBLE PRECISION, \\n\\t\\\"Average_view_duration\\\" TIME WITHOUT TIME ZONE\\n)\\n\\n/*\\n3 rows from content_type_table_data table:\\nContent_type\\tViews\\tWatch_time_in_hours\\tAverage_view_duration\\nTotal\\t26625\\t2157.3497\\t00:04:51\\nVideos\\t26614\\t2157.1948\\t00:04:51\\nOther\\t11\\t0.1549\\t00:00:50\\n*/\\n\\n\\nCREATE TABLE device_type_chart_data (\\n\\t\\\"Date\\\" DATE, \\n\\t\\\"Device_type\\\" TEXT, \\n\\t\\\"Views\\\" BIGINT\\n)\\n\\n/*\\n3 rows from device_type_chart_data table:\\nDate\\tDevice_type\\tViews\\n2020-06-28\\tComputer\\t1\\n2020-06-29\\tComputer\\t49\\n2020-06-30\\tComputer\\t62\\n*/\\n\\n\\nCREATE TABLE device_type_table_data (\\n\\t\\\"Device_type\\\" TEXT, \\n\\t\\\"Views\\\" BIGINT, \\n\\t\\\"Watch_time_in_hours\\\" DOUBLE PRECISION, \\n\\t\\\"Average_view_duration\\\" TIME WITHOUT TIME ZONE\\n)\\n\\n/*\\n3 rows from device_type_table_data table:\\nDevice_type\\tViews\\tWatch_time_in_hours\\tAverage_view_duration\\nTotal\\t26625\\t2157.3497\\t00:04:51\\nComputer\\t19267\\t1709.2645\\t00:05:19\\nMobile phone\\t6885\\t413.0522\\t00:03:35\\n*/\\n\\n\\nCREATE TABLE geography_chart_data (\\n\\t\\\"Date\\\" DATE, \\n\\t\\\"Geography\\\" TEXT, \\n\\t\\\"Views\\\" BIGINT\\n)\\n\\n/*\\n3 rows from geography_chart_data table:\\nDate\\tGeography\\tViews\\n2020-06-28\\tBJ\\t0\\n2020-06-29\\tBJ\\t0\\n2020-06-30\\tBJ\\t0\\n*/\\n\\n\\nCREATE TABLE geography_table_data (\\n\\t\\\"Geography\\\" TEXT, \\n\\t\\\"Views\\\" BIGINT, \\n\\t\\\"Watch_time_in_hours\\\" DOUBLE PRECISION, \\n\\t\\\"Average_view_duration\\\" TIME WITHOUT TIME ZONE\\n)\\n\\n/*\\n3 rows from geography_table_data table:\\nGeography\\tViews\\tWatch_time_in_hours\\tAverage_view_duration\\nTotal\\t26625\\t2157.3497\\t00:04:51\\nET\\t10903\\t958.4972\\t00:05:16\\nNG\\t854\\t103.8847\\t00:07:17\\n*/\\n\\n\\nCREATE TABLE new_and_returning_viewers_chart_data (\\n\\t\\\"Date\\\" DATE, \\n\\t\\\"New_and_returning_viewers\\\" TEXT, \\n\\t\\\"Views\\\" BIGINT\\n)\\n\\n/*\\n3 rows from new_and_returning_viewers_chart_data table:\\nDate\\tNew_and_returning_viewers\\tViews\\n2020-06-28\\tUnknown\\t1\\n2020-06-29\\tUnknown\\t72\\n2020-06-30\\tUnknown\\t76\\n*/\\n\\n\\nCREATE TABLE new_and_returning_viewers_table_data (\\n\\t\\\"New_and_returning_viewers\\\" TEXT, \\n\\t\\\"Views\\\" BIGINT, \\n\\t\\\"Watch_time_in_hours\\\" DOUBLE PRECISION, \\n\\t\\\"Average_view_duration\\\" TIME WITHOUT TIME ZONE\\n)\\n\\n/*\\n3 rows from new_and_returning_viewers_table_data table:\\nNew_and_returning_viewers\\tViews\\tWatch_time_in_hours\\tAverage_view_duration\\nTotal\\t26625\\t2157.3497\\t00:04:51\\nUnknown\\t22316\\t1833.939\\t00:04:55\\nReturning viewers\\t3215\\t276.4819\\t00:05:09\\n*/\\n\\n\\nCREATE TABLE operating_system_chart_data (\\n\\t\\\"Date\\\" DATE, \\n\\t\\\"Operating_system\\\" TEXT, \\n\\t\\\"Views\\\" BIGINT\\n)\\n\\n/*\\n3 rows from operating_system_chart_data table:\\nDate\\tOperating_system\\tViews\\n2020-06-28\\tUnknown\\t0\\n2020-06-29\\tUnknown\\t0\\n2020-06-30\\tUnknown\\t0\\n*/\\n\\n\\nCREATE TABLE operating_system_table_data (\\n\\t\\\"Operating_system\\\" TEXT, \\n\\t\\\"Views\\\" BIGINT, \\n\\t\\\"Watch_time_in_hours\\\" DOUBLE PRECISION, \\n\\t\\\"Average_view_duration\\\" TIME WITHOUT TIME ZONE\\n)\\n\\n/*\\n3 rows from operating_system_table_data table:\\nOperating_system\\tViews\\tWatch_time_in_hours\\tAverage_view_duration\\nTotal\\t26625\\t2157.3497\\t00:04:51\\nWindows\\t12506\\t1099.1683\\t00:05:16\\nAndroid\\t6089\\t381.0323\\t00:03:45\\n*/\\n\\n\\nCREATE TABLE sharing_service_chart_data (\\n\\t\\\"Date\\\" DATE, \\n\\t\\\"Sharing_service\\\" TEXT, \\n\\t\\\"Shares\\\" BIGINT\\n)\\n\\n/*\\n3 rows from sharing_service_chart_data table:\\nDate\\tSharing_service\\tShares\\n2020-06-28\\tFacebook\\t0\\n2020-06-29\\tFacebook\\t0\\n2020-06-30\\tFacebook\\t0\\n*/\\n\\n\\nCREATE TABLE sharing_service_table_data (\\n\\t\\\"Sharing_service\\\" TEXT, \\n\\t\\\"Shares\\\" BIGINT\\n)\\n\\n/*\\n3 rows from sharing_service_table_data table:\\nSharing_service\\tShares\\nTotal\\t135\\nCopy to Clipboard\\t47\\nWhatsApp\\t42\\n*/\\n\\n\\nCREATE TABLE subscription_source_chart_data (\\n\\t\\\"Date\\\" DATE, \\n\\t\\\"Subscription_source\\\" TEXT, \\n\\t\\\"Subscribers\\\" BIGINT\\n)\\n\\n/*\\n3 rows from subscription_source_chart_data table:\\nDate\\tSubscription_source\\tSubscribers\\n2020-06-28\\tOther\\t0\\n2020-06-29\\tOther\\t0\\n2020-06-30\\tOther\\t0\\n*/\\n\\n\\nCREATE TABLE subscription_source_table_data (\\n\\t\\\"Subscription_source\\\" TEXT, \\n\\t\\\"Subscribers\\\" BIGINT, \\n\\t\\\"Subscribers_gained\\\" BIGINT, \\n\\t\\\"Subscribers_lost\\\" BIGINT\\n)\\n\\n/*\\n3 rows from subscription_source_table_data table:\\nSubscription_source\\tSubscribers\\tSubscribers_gained\\tSubscribers_lost\\nTotal\\t417\\t528\\t111\\nYouTube watch-page\\t197\\t209\\t12\\nYour YouTube channel\\t157\\t182\\t25\\n*/\\n\\n\\nCREATE TABLE subscription_status_chart_data (\\n\\t\\\"Date\\\" DATE, \\n\\t\\\"Subscription_status\\\" TEXT, \\n\\t\\\"Views\\\" BIGINT\\n)\\n\\n/*\\n3 rows from subscription_status_chart_data table:\\nDate\\tSubscription_status\\tViews\\n2020-06-28\\tSubscribed\\t1\\n2020-06-29\\tSubscribed\\t16\\n2020-06-30\\tSubscribed\\t23\\n*/\\n\\n\\nCREATE TABLE subscription_status_table_data (\\n\\t\\\"Subscription_status\\\" TEXT, \\n\\t\\\"Views\\\" BIGINT, \\n\\t\\\"Watch_time_in_hours\\\" DOUBLE PRECISION, \\n\\t\\\"Average_view_duration\\\" TIME WITHOUT TIME ZONE\\n)\\n\\n/*\\n3 rows from subscription_status_table_data table:\\nSubscription_status\\tViews\\tWatch_time_in_hours\\tAverage_view_duration\\nTotal\\t26625\\t2157.3497\\t00:04:51\\nSubscribed\\t13621\\t1318.3326\\t00:05:48\\nNot subscribed\\t13004\\t839.0171\\t00:03:52\\n*/\\n\\n\\nCREATE TABLE subtitles_and_cc_chart_data (\\n\\t\\\"Date\\\" DATE, \\n\\t\\\"Subtitles_and_CC\\\" TEXT, \\n\\t\\\"Views\\\" BIGINT\\n)\\n\\n/*\\n3 rows from subtitles_and_cc_chart_data table:\\nDate\\tSubtitles_and_CC\\tViews\\n2020-06-28\\tNone\\t1\\n2020-06-29\\tNone\\t70\\n2020-06-30\\tNone\\t76\\n*/\\n\\n\\nCREATE TABLE subtitles_and_cc_table_data (\\n\\t\\\"Subtitles_and_CC\\\" TEXT, \\n\\t\\\"Views\\\" BIGINT, \\n\\t\\\"Watch_time_in_hours\\\" DOUBLE PRECISION, \\n\\t\\\"Average_view_duration\\\" TIME WITHOUT TIME ZONE\\n)\\n\\n/*\\n3 rows from subtitles_and_cc_table_data table:\\nSubtitles_and_CC\\tViews\\tWatch_time_in_hours\\tAverage_view_duration\\nTotal\\t26625\\t2157.3497\\t00:04:51\\nNone\\t25091\\t2019.2411\\t00:04:49\\nen\\t1499\\t136.6345\\t00:05:28\\n*/\\n\\n\\nCREATE TABLE traffic_source_chart_data (\\n\\t\\\"Date\\\" DATE, \\n\\t\\\"Traffic_source\\\" TEXT, \\n\\t\\\"Views\\\" BIGINT\\n)\\n\\n/*\\n3 rows from traffic_source_chart_data table:\\nDate\\tTraffic_source\\tViews\\n2020-06-28\\tDirect or unknown\\t0\\n2020-06-29\\tDirect or unknown\\t6\\n2020-06-30\\tDirect or unknown\\t2\\n*/\\n\\n\\nCREATE TABLE traffic_source_table_data (\\n\\t\\\"Traffic_source\\\" TEXT, \\n\\t\\\"Views\\\" DOUBLE PRECISION, \\n\\t\\\"Watch_time_in_hours\\\" DOUBLE PRECISION, \\n\\t\\\"Average_view_duration\\\" TIME WITHOUT TIME ZONE, \\n\\t\\\"Impressions\\\" DOUBLE PRECISION, \\n\\t\\\"Impressions_click_through_rate_in_percent\\\" DOUBLE PRECISION\\n)\\n\\n/*\\n3 rows from traffic_source_table_data table:\\nTraffic_source\\tViews\\tWatch_time_in_hours\\tAverage_view_duration\\tImpressions\\tImpressions_click_through_rate_in_percent\\nTotal\\t26625.0\\t2157.3497\\t00:04:51\\t606516.0\\t2.45\\nChannel pages\\t8444.0\\t780.234\\t00:05:32\\t218825.0\\t2.95\\nBrowse features\\t4759.0\\t321.8387\\t00:04:03\\t109132.0\\t3.43\\n*/\\n\\n\\nCREATE TABLE viewer_age_table_data (\\n\\t\\\"Viewer_age\\\" TEXT, \\n\\t\\\"Views_in_percent\\\" DOUBLE PRECISION, \\n\\t\\\"Average_view_duration\\\" TIME WITHOUT TIME ZONE, \\n\\t\\\"Average_percentage_viewed_in_percent\\\" DOUBLE PRECISION, \\n\\t\\\"Watch_time_hours_in_percent\\\" DOUBLE PRECISION\\n)\\n\\n/*\\n3 rows from viewer_age_table_data table:\\nViewer_age\\tViews_in_percent\\tAverage_view_duration\\tAverage_percentage_viewed_in_percent\\tWatch_time_hours_in_percent\\n13–17 years\\t0.49\\t00:00:08\\t0.27\\t0.01\\n18–24 years\\t23.27\\t00:05:17\\t9.75\\t26.91\\n25–34 years\\t72.7\\t00:04:30\\t8.08\\t71.66\\n*/\\n\\n\\nCREATE TABLE viewer_gender_table_data (\\n\\t\\\"Viewer_gender\\\" TEXT, \\n\\t\\\"Views_in_percent\\\" DOUBLE PRECISION, \\n\\t\\\"Average_view_duration\\\" TIME WITHOUT TIME ZONE, \\n\\t\\\"Average_percentage_viewed_in_percent\\\" DOUBLE PRECISION, \\n\\t\\\"Watch_time_hours_in_percent\\\" DOUBLE PRECISION\\n)\\n\\n/*\\n3 rows from viewer_gender_table_data table:\\nViewer_gender\\tViews_in_percent\\tAverage_view_duration\\tAverage_percentage_viewed_in_percent\\tWatch_time_hours_in_percent\\nFemale\\t20.16\\t00:05:23\\t9.36\\t23.38\\nMale\\t79.84\\t00:04:27\\t7.83\\t76.62\\n*/\\n\\n\\nCREATE TABLE viewership_by_date_table_data (\\n\\t\\\"Date\\\" TEXT, \\n\\t\\\"Views\\\" DOUBLE PRECISION, \\n\\t\\\"Watch_time_in_hours\\\" DOUBLE PRECISION, \\n\\t\\\"Average_view_duration\\\" TIME WITHOUT TIME ZONE\\n)\\n\\n/*\\n3 rows from viewership_by_date_table_data table:\\nDate\\tViews\\tWatch_time_in_hours\\tAverage_view_duration\\nTotal\\t26625.0\\t2157.3497\\t00:04:51\\n12/28/2023\\t25.0\\t0.3236\\t00:00:46\\n12/27/2023\\t8.0\\t0.2989\\t00:02:14\\n*/\\n\\n\\nCREATE TABLE views_by_date (\\n\\t\\\"Date\\\" DATE, \\n\\t\\\"Views\\\" BIGINT\\n)\\n\\n/*\\n3 rows from views_by_date table:\\nDate\\tViews\\n2020-06-28\\t1\\n2020-06-29\\t72\\n2020-06-30\\t76\\n*/\"\n",
      "}\n",
      "\u001b[36;1m\u001b[1;3m[chain/end]\u001b[0m \u001b[1m[1:chain:RunnableSequence > 6:prompt:PromptTemplate] [1ms] Exiting Prompt run with output:\n",
      "\u001b[0m{\n",
      "  \"lc\": 1,\n",
      "  \"type\": \"constructor\",\n",
      "  \"id\": [\n",
      "    \"langchain\",\n",
      "    \"prompts\",\n",
      "    \"base\",\n",
      "    \"StringPromptValue\"\n",
      "  ],\n",
      "  \"kwargs\": {\n",
      "    \"text\": \"You are a PostgreSQL expert. Given an input question, first create a syntactically correct PostgreSQL query to run, then look at the results of the query and return the answer to the input question.\\nUnless the user specifies in the question a specific number of examples to obtain, query for at most 5 results using the LIMIT clause as per PostgreSQL. You can order the results to return the most informative data in the database.\\nNever query for all columns from a table. You must query only the columns that are needed to answer the question. Wrap each column name in double quotes (\\\") to denote them as delimited identifiers.\\nPay attention to use only the column names you can see in the tables below. Be careful to not query for columns that do not exist. Also, pay attention to which column is in which table.\\nPay attention to use CURRENT_DATE function to get the current date, if the question involves \\\"today\\\".\\n\\nUse the following format:\\n\\nQuestion: Question here\\nSQLQuery: SQL Query to run\\nSQLResult: Result of the SQLQuery\\nAnswer: Final answer here\\n\\nOnly use the following tables:\\n\\nCREATE TABLE cities_chart_data (\\n\\t\\\"Date\\\" DATE, \\n\\t\\\"Cities\\\" TEXT, \\n\\t\\\"City_name\\\" TEXT, \\n\\t\\\"Views\\\" INTEGER\\n)\\n\\n/*\\n3 rows from cities_chart_data table:\\nDate\\tCities\\tCity_name\\tViews\\n2020-06-28\\t0x164b85cef5ab402d:0x8467b6b037a24d49\\tAddis Ababa\\t0\\n2020-06-29\\t0x164b85cef5ab402d:0x8467b6b037a24d49\\tAddis Ababa\\t0\\n2020-06-30\\t0x164b85cef5ab402d:0x8467b6b037a24d49\\tAddis Ababa\\t0\\n*/\\n\\n\\nCREATE TABLE cities_table_data (\\n\\t\\\"Cities\\\" TEXT, \\n\\t\\\"City_name\\\" TEXT, \\n\\t\\\"Geography\\\" TEXT, \\n\\t\\\"Geography.1\\\" TEXT, \\n\\t\\\"Views\\\" BIGINT, \\n\\t\\\"Watch_time_in_hours\\\" DOUBLE PRECISION, \\n\\t\\\"Average_view_duration\\\" TIME WITHOUT TIME ZONE\\n)\\n\\n/*\\n3 rows from cities_table_data table:\\nCities\\tCity_name\\tGeography\\tGeography.1\\tViews\\tWatch_time_in_hours\\tAverage_view_duration\\nTotal\\tNone\\tNone\\tNone\\t26625\\t2157.3497\\t00:04:51\\n0x164b85cef5ab402d:0x8467b6b037a24d49\\tAddis Ababa\\tET\\tET-AA\\t1252\\t127.5042\\t00:06:06\\n0x487a4d4c5226f5db:0xd9be143804fe6baa\\tManchester\\tGB\\tGB-ENG\\t23\\t0.0402\\t00:00:06\\n*/\\n\\n\\nCREATE TABLE content_type_chart_data (\\n\\t\\\"Date\\\" DATE, \\n\\t\\\"Content_type\\\" TEXT, \\n\\t\\\"Views\\\" BIGINT\\n)\\n\\n/*\\n3 rows from content_type_chart_data table:\\nDate\\tContent_type\\tViews\\n2020-06-28\\tOther\\t0\\n2020-06-29\\tOther\\t0\\n2020-06-30\\tOther\\t0\\n*/\\n\\n\\nCREATE TABLE content_type_table_data (\\n\\t\\\"Content_type\\\" TEXT, \\n\\t\\\"Views\\\" BIGINT, \\n\\t\\\"Watch_time_in_hours\\\" DOUBLE PRECISION, \\n\\t\\\"Average_view_duration\\\" TIME WITHOUT TIME ZONE\\n)\\n\\n/*\\n3 rows from content_type_table_data table:\\nContent_type\\tViews\\tWatch_time_in_hours\\tAverage_view_duration\\nTotal\\t26625\\t2157.3497\\t00:04:51\\nVideos\\t26614\\t2157.1948\\t00:04:51\\nOther\\t11\\t0.1549\\t00:00:50\\n*/\\n\\n\\nCREATE TABLE device_type_chart_data (\\n\\t\\\"Date\\\" DATE, \\n\\t\\\"Device_type\\\" TEXT, \\n\\t\\\"Views\\\" BIGINT\\n)\\n\\n/*\\n3 rows from device_type_chart_data table:\\nDate\\tDevice_type\\tViews\\n2020-06-28\\tComputer\\t1\\n2020-06-29\\tComputer\\t49\\n2020-06-30\\tComputer\\t62\\n*/\\n\\n\\nCREATE TABLE device_type_table_data (\\n\\t\\\"Device_type\\\" TEXT, \\n\\t\\\"Views\\\" BIGINT, \\n\\t\\\"Watch_time_in_hours\\\" DOUBLE PRECISION, \\n\\t\\\"Average_view_duration\\\" TIME WITHOUT TIME ZONE\\n)\\n\\n/*\\n3 rows from device_type_table_data table:\\nDevice_type\\tViews\\tWatch_time_in_hours\\tAverage_view_duration\\nTotal\\t26625\\t2157.3497\\t00:04:51\\nComputer\\t19267\\t1709.2645\\t00:05:19\\nMobile phone\\t6885\\t413.0522\\t00:03:35\\n*/\\n\\n\\nCREATE TABLE geography_chart_data (\\n\\t\\\"Date\\\" DATE, \\n\\t\\\"Geography\\\" TEXT, \\n\\t\\\"Views\\\" BIGINT\\n)\\n\\n/*\\n3 rows from geography_chart_data table:\\nDate\\tGeography\\tViews\\n2020-06-28\\tBJ\\t0\\n2020-06-29\\tBJ\\t0\\n2020-06-30\\tBJ\\t0\\n*/\\n\\n\\nCREATE TABLE geography_table_data (\\n\\t\\\"Geography\\\" TEXT, \\n\\t\\\"Views\\\" BIGINT, \\n\\t\\\"Watch_time_in_hours\\\" DOUBLE PRECISION, \\n\\t\\\"Average_view_duration\\\" TIME WITHOUT TIME ZONE\\n)\\n\\n/*\\n3 rows from geography_table_data table:\\nGeography\\tViews\\tWatch_time_in_hours\\tAverage_view_duration\\nTotal\\t26625\\t2157.3497\\t00:04:51\\nET\\t10903\\t958.4972\\t00:05:16\\nNG\\t854\\t103.8847\\t00:07:17\\n*/\\n\\n\\nCREATE TABLE new_and_returning_viewers_chart_data (\\n\\t\\\"Date\\\" DATE, \\n\\t\\\"New_and_returning_viewers\\\" TEXT, \\n\\t\\\"Views\\\" BIGINT\\n)\\n\\n/*\\n3 rows from new_and_returning_viewers_chart_data table:\\nDate\\tNew_and_returning_viewers\\tViews\\n2020-06-28\\tUnknown\\t1\\n2020-06-29\\tUnknown\\t72\\n2020-06-30\\tUnknown\\t76\\n*/\\n\\n\\nCREATE TABLE new_and_returning_viewers_table_data (\\n\\t\\\"New_and_returning_viewers\\\" TEXT, \\n\\t\\\"Views\\\" BIGINT, \\n\\t\\\"Watch_time_in_hours\\\" DOUBLE PRECISION, \\n\\t\\\"Average_view_duration\\\" TIME WITHOUT TIME ZONE\\n)\\n\\n/*\\n3 rows from new_and_returning_viewers_table_data table:\\nNew_and_returning_viewers\\tViews\\tWatch_time_in_hours\\tAverage_view_duration\\nTotal\\t26625\\t2157.3497\\t00:04:51\\nUnknown\\t22316\\t1833.939\\t00:04:55\\nReturning viewers\\t3215\\t276.4819\\t00:05:09\\n*/\\n\\n\\nCREATE TABLE operating_system_chart_data (\\n\\t\\\"Date\\\" DATE, \\n\\t\\\"Operating_system\\\" TEXT, \\n\\t\\\"Views\\\" BIGINT\\n)\\n\\n/*\\n3 rows from operating_system_chart_data table:\\nDate\\tOperating_system\\tViews\\n2020-06-28\\tUnknown\\t0\\n2020-06-29\\tUnknown\\t0\\n2020-06-30\\tUnknown\\t0\\n*/\\n\\n\\nCREATE TABLE operating_system_table_data (\\n\\t\\\"Operating_system\\\" TEXT, \\n\\t\\\"Views\\\" BIGINT, \\n\\t\\\"Watch_time_in_hours\\\" DOUBLE PRECISION, \\n\\t\\\"Average_view_duration\\\" TIME WITHOUT TIME ZONE\\n)\\n\\n/*\\n3 rows from operating_system_table_data table:\\nOperating_system\\tViews\\tWatch_time_in_hours\\tAverage_view_duration\\nTotal\\t26625\\t2157.3497\\t00:04:51\\nWindows\\t12506\\t1099.1683\\t00:05:16\\nAndroid\\t6089\\t381.0323\\t00:03:45\\n*/\\n\\n\\nCREATE TABLE sharing_service_chart_data (\\n\\t\\\"Date\\\" DATE, \\n\\t\\\"Sharing_service\\\" TEXT, \\n\\t\\\"Shares\\\" BIGINT\\n)\\n\\n/*\\n3 rows from sharing_service_chart_data table:\\nDate\\tSharing_service\\tShares\\n2020-06-28\\tFacebook\\t0\\n2020-06-29\\tFacebook\\t0\\n2020-06-30\\tFacebook\\t0\\n*/\\n\\n\\nCREATE TABLE sharing_service_table_data (\\n\\t\\\"Sharing_service\\\" TEXT, \\n\\t\\\"Shares\\\" BIGINT\\n)\\n\\n/*\\n3 rows from sharing_service_table_data table:\\nSharing_service\\tShares\\nTotal\\t135\\nCopy to Clipboard\\t47\\nWhatsApp\\t42\\n*/\\n\\n\\nCREATE TABLE subscription_source_chart_data (\\n\\t\\\"Date\\\" DATE, \\n\\t\\\"Subscription_source\\\" TEXT, \\n\\t\\\"Subscribers\\\" BIGINT\\n)\\n\\n/*\\n3 rows from subscription_source_chart_data table:\\nDate\\tSubscription_source\\tSubscribers\\n2020-06-28\\tOther\\t0\\n2020-06-29\\tOther\\t0\\n2020-06-30\\tOther\\t0\\n*/\\n\\n\\nCREATE TABLE subscription_source_table_data (\\n\\t\\\"Subscription_source\\\" TEXT, \\n\\t\\\"Subscribers\\\" BIGINT, \\n\\t\\\"Subscribers_gained\\\" BIGINT, \\n\\t\\\"Subscribers_lost\\\" BIGINT\\n)\\n\\n/*\\n3 rows from subscription_source_table_data table:\\nSubscription_source\\tSubscribers\\tSubscribers_gained\\tSubscribers_lost\\nTotal\\t417\\t528\\t111\\nYouTube watch-page\\t197\\t209\\t12\\nYour YouTube channel\\t157\\t182\\t25\\n*/\\n\\n\\nCREATE TABLE subscription_status_chart_data (\\n\\t\\\"Date\\\" DATE, \\n\\t\\\"Subscription_status\\\" TEXT, \\n\\t\\\"Views\\\" BIGINT\\n)\\n\\n/*\\n3 rows from subscription_status_chart_data table:\\nDate\\tSubscription_status\\tViews\\n2020-06-28\\tSubscribed\\t1\\n2020-06-29\\tSubscribed\\t16\\n2020-06-30\\tSubscribed\\t23\\n*/\\n\\n\\nCREATE TABLE subscription_status_table_data (\\n\\t\\\"Subscription_status\\\" TEXT, \\n\\t\\\"Views\\\" BIGINT, \\n\\t\\\"Watch_time_in_hours\\\" DOUBLE PRECISION, \\n\\t\\\"Average_view_duration\\\" TIME WITHOUT TIME ZONE\\n)\\n\\n/*\\n3 rows from subscription_status_table_data table:\\nSubscription_status\\tViews\\tWatch_time_in_hours\\tAverage_view_duration\\nTotal\\t26625\\t2157.3497\\t00:04:51\\nSubscribed\\t13621\\t1318.3326\\t00:05:48\\nNot subscribed\\t13004\\t839.0171\\t00:03:52\\n*/\\n\\n\\nCREATE TABLE subtitles_and_cc_chart_data (\\n\\t\\\"Date\\\" DATE, \\n\\t\\\"Subtitles_and_CC\\\" TEXT, \\n\\t\\\"Views\\\" BIGINT\\n)\\n\\n/*\\n3 rows from subtitles_and_cc_chart_data table:\\nDate\\tSubtitles_and_CC\\tViews\\n2020-06-28\\tNone\\t1\\n2020-06-29\\tNone\\t70\\n2020-06-30\\tNone\\t76\\n*/\\n\\n\\nCREATE TABLE subtitles_and_cc_table_data (\\n\\t\\\"Subtitles_and_CC\\\" TEXT, \\n\\t\\\"Views\\\" BIGINT, \\n\\t\\\"Watch_time_in_hours\\\" DOUBLE PRECISION, \\n\\t\\\"Average_view_duration\\\" TIME WITHOUT TIME ZONE\\n)\\n\\n/*\\n3 rows from subtitles_and_cc_table_data table:\\nSubtitles_and_CC\\tViews\\tWatch_time_in_hours\\tAverage_view_duration\\nTotal\\t26625\\t2157.3497\\t00:04:51\\nNone\\t25091\\t2019.2411\\t00:04:49\\nen\\t1499\\t136.6345\\t00:05:28\\n*/\\n\\n\\nCREATE TABLE traffic_source_chart_data (\\n\\t\\\"Date\\\" DATE, \\n\\t\\\"Traffic_source\\\" TEXT, \\n\\t\\\"Views\\\" BIGINT\\n)\\n\\n/*\\n3 rows from traffic_source_chart_data table:\\nDate\\tTraffic_source\\tViews\\n2020-06-28\\tDirect or unknown\\t0\\n2020-06-29\\tDirect or unknown\\t6\\n2020-06-30\\tDirect or unknown\\t2\\n*/\\n\\n\\nCREATE TABLE traffic_source_table_data (\\n\\t\\\"Traffic_source\\\" TEXT, \\n\\t\\\"Views\\\" DOUBLE PRECISION, \\n\\t\\\"Watch_time_in_hours\\\" DOUBLE PRECISION, \\n\\t\\\"Average_view_duration\\\" TIME WITHOUT TIME ZONE, \\n\\t\\\"Impressions\\\" DOUBLE PRECISION, \\n\\t\\\"Impressions_click_through_rate_in_percent\\\" DOUBLE PRECISION\\n)\\n\\n/*\\n3 rows from traffic_source_table_data table:\\nTraffic_source\\tViews\\tWatch_time_in_hours\\tAverage_view_duration\\tImpressions\\tImpressions_click_through_rate_in_percent\\nTotal\\t26625.0\\t2157.3497\\t00:04:51\\t606516.0\\t2.45\\nChannel pages\\t8444.0\\t780.234\\t00:05:32\\t218825.0\\t2.95\\nBrowse features\\t4759.0\\t321.8387\\t00:04:03\\t109132.0\\t3.43\\n*/\\n\\n\\nCREATE TABLE viewer_age_table_data (\\n\\t\\\"Viewer_age\\\" TEXT, \\n\\t\\\"Views_in_percent\\\" DOUBLE PRECISION, \\n\\t\\\"Average_view_duration\\\" TIME WITHOUT TIME ZONE, \\n\\t\\\"Average_percentage_viewed_in_percent\\\" DOUBLE PRECISION, \\n\\t\\\"Watch_time_hours_in_percent\\\" DOUBLE PRECISION\\n)\\n\\n/*\\n3 rows from viewer_age_table_data table:\\nViewer_age\\tViews_in_percent\\tAverage_view_duration\\tAverage_percentage_viewed_in_percent\\tWatch_time_hours_in_percent\\n13–17 years\\t0.49\\t00:00:08\\t0.27\\t0.01\\n18–24 years\\t23.27\\t00:05:17\\t9.75\\t26.91\\n25–34 years\\t72.7\\t00:04:30\\t8.08\\t71.66\\n*/\\n\\n\\nCREATE TABLE viewer_gender_table_data (\\n\\t\\\"Viewer_gender\\\" TEXT, \\n\\t\\\"Views_in_percent\\\" DOUBLE PRECISION, \\n\\t\\\"Average_view_duration\\\" TIME WITHOUT TIME ZONE, \\n\\t\\\"Average_percentage_viewed_in_percent\\\" DOUBLE PRECISION, \\n\\t\\\"Watch_time_hours_in_percent\\\" DOUBLE PRECISION\\n)\\n\\n/*\\n3 rows from viewer_gender_table_data table:\\nViewer_gender\\tViews_in_percent\\tAverage_view_duration\\tAverage_percentage_viewed_in_percent\\tWatch_time_hours_in_percent\\nFemale\\t20.16\\t00:05:23\\t9.36\\t23.38\\nMale\\t79.84\\t00:04:27\\t7.83\\t76.62\\n*/\\n\\n\\nCREATE TABLE viewership_by_date_table_data (\\n\\t\\\"Date\\\" TEXT, \\n\\t\\\"Views\\\" DOUBLE PRECISION, \\n\\t\\\"Watch_time_in_hours\\\" DOUBLE PRECISION, \\n\\t\\\"Average_view_duration\\\" TIME WITHOUT TIME ZONE\\n)\\n\\n/*\\n3 rows from viewership_by_date_table_data table:\\nDate\\tViews\\tWatch_time_in_hours\\tAverage_view_duration\\nTotal\\t26625.0\\t2157.3497\\t00:04:51\\n12/28/2023\\t25.0\\t0.3236\\t00:00:46\\n12/27/2023\\t8.0\\t0.2989\\t00:02:14\\n*/\\n\\n\\nCREATE TABLE views_by_date (\\n\\t\\\"Date\\\" DATE, \\n\\t\\\"Views\\\" BIGINT\\n)\\n\\n/*\\n3 rows from views_by_date table:\\nDate\\tViews\\n2020-06-28\\t1\\n2020-06-29\\t72\\n2020-06-30\\t76\\n*/\\n\\nQuestion: which age group has the most views?\\nSQLQuery: \"\n",
      "  }\n",
      "}\n",
      "\u001b[32;1m\u001b[1;3m[llm/start]\u001b[0m \u001b[1m[1:chain:RunnableSequence > 7:llm:ChatOpenAI] Entering LLM run with input:\n",
      "\u001b[0m{\n",
      "  \"prompts\": [\n",
      "    \"Human: You are a PostgreSQL expert. Given an input question, first create a syntactically correct PostgreSQL query to run, then look at the results of the query and return the answer to the input question.\\nUnless the user specifies in the question a specific number of examples to obtain, query for at most 5 results using the LIMIT clause as per PostgreSQL. You can order the results to return the most informative data in the database.\\nNever query for all columns from a table. You must query only the columns that are needed to answer the question. Wrap each column name in double quotes (\\\") to denote them as delimited identifiers.\\nPay attention to use only the column names you can see in the tables below. Be careful to not query for columns that do not exist. Also, pay attention to which column is in which table.\\nPay attention to use CURRENT_DATE function to get the current date, if the question involves \\\"today\\\".\\n\\nUse the following format:\\n\\nQuestion: Question here\\nSQLQuery: SQL Query to run\\nSQLResult: Result of the SQLQuery\\nAnswer: Final answer here\\n\\nOnly use the following tables:\\n\\nCREATE TABLE cities_chart_data (\\n\\t\\\"Date\\\" DATE, \\n\\t\\\"Cities\\\" TEXT, \\n\\t\\\"City_name\\\" TEXT, \\n\\t\\\"Views\\\" INTEGER\\n)\\n\\n/*\\n3 rows from cities_chart_data table:\\nDate\\tCities\\tCity_name\\tViews\\n2020-06-28\\t0x164b85cef5ab402d:0x8467b6b037a24d49\\tAddis Ababa\\t0\\n2020-06-29\\t0x164b85cef5ab402d:0x8467b6b037a24d49\\tAddis Ababa\\t0\\n2020-06-30\\t0x164b85cef5ab402d:0x8467b6b037a24d49\\tAddis Ababa\\t0\\n*/\\n\\n\\nCREATE TABLE cities_table_data (\\n\\t\\\"Cities\\\" TEXT, \\n\\t\\\"City_name\\\" TEXT, \\n\\t\\\"Geography\\\" TEXT, \\n\\t\\\"Geography.1\\\" TEXT, \\n\\t\\\"Views\\\" BIGINT, \\n\\t\\\"Watch_time_in_hours\\\" DOUBLE PRECISION, \\n\\t\\\"Average_view_duration\\\" TIME WITHOUT TIME ZONE\\n)\\n\\n/*\\n3 rows from cities_table_data table:\\nCities\\tCity_name\\tGeography\\tGeography.1\\tViews\\tWatch_time_in_hours\\tAverage_view_duration\\nTotal\\tNone\\tNone\\tNone\\t26625\\t2157.3497\\t00:04:51\\n0x164b85cef5ab402d:0x8467b6b037a24d49\\tAddis Ababa\\tET\\tET-AA\\t1252\\t127.5042\\t00:06:06\\n0x487a4d4c5226f5db:0xd9be143804fe6baa\\tManchester\\tGB\\tGB-ENG\\t23\\t0.0402\\t00:00:06\\n*/\\n\\n\\nCREATE TABLE content_type_chart_data (\\n\\t\\\"Date\\\" DATE, \\n\\t\\\"Content_type\\\" TEXT, \\n\\t\\\"Views\\\" BIGINT\\n)\\n\\n/*\\n3 rows from content_type_chart_data table:\\nDate\\tContent_type\\tViews\\n2020-06-28\\tOther\\t0\\n2020-06-29\\tOther\\t0\\n2020-06-30\\tOther\\t0\\n*/\\n\\n\\nCREATE TABLE content_type_table_data (\\n\\t\\\"Content_type\\\" TEXT, \\n\\t\\\"Views\\\" BIGINT, \\n\\t\\\"Watch_time_in_hours\\\" DOUBLE PRECISION, \\n\\t\\\"Average_view_duration\\\" TIME WITHOUT TIME ZONE\\n)\\n\\n/*\\n3 rows from content_type_table_data table:\\nContent_type\\tViews\\tWatch_time_in_hours\\tAverage_view_duration\\nTotal\\t26625\\t2157.3497\\t00:04:51\\nVideos\\t26614\\t2157.1948\\t00:04:51\\nOther\\t11\\t0.1549\\t00:00:50\\n*/\\n\\n\\nCREATE TABLE device_type_chart_data (\\n\\t\\\"Date\\\" DATE, \\n\\t\\\"Device_type\\\" TEXT, \\n\\t\\\"Views\\\" BIGINT\\n)\\n\\n/*\\n3 rows from device_type_chart_data table:\\nDate\\tDevice_type\\tViews\\n2020-06-28\\tComputer\\t1\\n2020-06-29\\tComputer\\t49\\n2020-06-30\\tComputer\\t62\\n*/\\n\\n\\nCREATE TABLE device_type_table_data (\\n\\t\\\"Device_type\\\" TEXT, \\n\\t\\\"Views\\\" BIGINT, \\n\\t\\\"Watch_time_in_hours\\\" DOUBLE PRECISION, \\n\\t\\\"Average_view_duration\\\" TIME WITHOUT TIME ZONE\\n)\\n\\n/*\\n3 rows from device_type_table_data table:\\nDevice_type\\tViews\\tWatch_time_in_hours\\tAverage_view_duration\\nTotal\\t26625\\t2157.3497\\t00:04:51\\nComputer\\t19267\\t1709.2645\\t00:05:19\\nMobile phone\\t6885\\t413.0522\\t00:03:35\\n*/\\n\\n\\nCREATE TABLE geography_chart_data (\\n\\t\\\"Date\\\" DATE, \\n\\t\\\"Geography\\\" TEXT, \\n\\t\\\"Views\\\" BIGINT\\n)\\n\\n/*\\n3 rows from geography_chart_data table:\\nDate\\tGeography\\tViews\\n2020-06-28\\tBJ\\t0\\n2020-06-29\\tBJ\\t0\\n2020-06-30\\tBJ\\t0\\n*/\\n\\n\\nCREATE TABLE geography_table_data (\\n\\t\\\"Geography\\\" TEXT, \\n\\t\\\"Views\\\" BIGINT, \\n\\t\\\"Watch_time_in_hours\\\" DOUBLE PRECISION, \\n\\t\\\"Average_view_duration\\\" TIME WITHOUT TIME ZONE\\n)\\n\\n/*\\n3 rows from geography_table_data table:\\nGeography\\tViews\\tWatch_time_in_hours\\tAverage_view_duration\\nTotal\\t26625\\t2157.3497\\t00:04:51\\nET\\t10903\\t958.4972\\t00:05:16\\nNG\\t854\\t103.8847\\t00:07:17\\n*/\\n\\n\\nCREATE TABLE new_and_returning_viewers_chart_data (\\n\\t\\\"Date\\\" DATE, \\n\\t\\\"New_and_returning_viewers\\\" TEXT, \\n\\t\\\"Views\\\" BIGINT\\n)\\n\\n/*\\n3 rows from new_and_returning_viewers_chart_data table:\\nDate\\tNew_and_returning_viewers\\tViews\\n2020-06-28\\tUnknown\\t1\\n2020-06-29\\tUnknown\\t72\\n2020-06-30\\tUnknown\\t76\\n*/\\n\\n\\nCREATE TABLE new_and_returning_viewers_table_data (\\n\\t\\\"New_and_returning_viewers\\\" TEXT, \\n\\t\\\"Views\\\" BIGINT, \\n\\t\\\"Watch_time_in_hours\\\" DOUBLE PRECISION, \\n\\t\\\"Average_view_duration\\\" TIME WITHOUT TIME ZONE\\n)\\n\\n/*\\n3 rows from new_and_returning_viewers_table_data table:\\nNew_and_returning_viewers\\tViews\\tWatch_time_in_hours\\tAverage_view_duration\\nTotal\\t26625\\t2157.3497\\t00:04:51\\nUnknown\\t22316\\t1833.939\\t00:04:55\\nReturning viewers\\t3215\\t276.4819\\t00:05:09\\n*/\\n\\n\\nCREATE TABLE operating_system_chart_data (\\n\\t\\\"Date\\\" DATE, \\n\\t\\\"Operating_system\\\" TEXT, \\n\\t\\\"Views\\\" BIGINT\\n)\\n\\n/*\\n3 rows from operating_system_chart_data table:\\nDate\\tOperating_system\\tViews\\n2020-06-28\\tUnknown\\t0\\n2020-06-29\\tUnknown\\t0\\n2020-06-30\\tUnknown\\t0\\n*/\\n\\n\\nCREATE TABLE operating_system_table_data (\\n\\t\\\"Operating_system\\\" TEXT, \\n\\t\\\"Views\\\" BIGINT, \\n\\t\\\"Watch_time_in_hours\\\" DOUBLE PRECISION, \\n\\t\\\"Average_view_duration\\\" TIME WITHOUT TIME ZONE\\n)\\n\\n/*\\n3 rows from operating_system_table_data table:\\nOperating_system\\tViews\\tWatch_time_in_hours\\tAverage_view_duration\\nTotal\\t26625\\t2157.3497\\t00:04:51\\nWindows\\t12506\\t1099.1683\\t00:05:16\\nAndroid\\t6089\\t381.0323\\t00:03:45\\n*/\\n\\n\\nCREATE TABLE sharing_service_chart_data (\\n\\t\\\"Date\\\" DATE, \\n\\t\\\"Sharing_service\\\" TEXT, \\n\\t\\\"Shares\\\" BIGINT\\n)\\n\\n/*\\n3 rows from sharing_service_chart_data table:\\nDate\\tSharing_service\\tShares\\n2020-06-28\\tFacebook\\t0\\n2020-06-29\\tFacebook\\t0\\n2020-06-30\\tFacebook\\t0\\n*/\\n\\n\\nCREATE TABLE sharing_service_table_data (\\n\\t\\\"Sharing_service\\\" TEXT, \\n\\t\\\"Shares\\\" BIGINT\\n)\\n\\n/*\\n3 rows from sharing_service_table_data table:\\nSharing_service\\tShares\\nTotal\\t135\\nCopy to Clipboard\\t47\\nWhatsApp\\t42\\n*/\\n\\n\\nCREATE TABLE subscription_source_chart_data (\\n\\t\\\"Date\\\" DATE, \\n\\t\\\"Subscription_source\\\" TEXT, \\n\\t\\\"Subscribers\\\" BIGINT\\n)\\n\\n/*\\n3 rows from subscription_source_chart_data table:\\nDate\\tSubscription_source\\tSubscribers\\n2020-06-28\\tOther\\t0\\n2020-06-29\\tOther\\t0\\n2020-06-30\\tOther\\t0\\n*/\\n\\n\\nCREATE TABLE subscription_source_table_data (\\n\\t\\\"Subscription_source\\\" TEXT, \\n\\t\\\"Subscribers\\\" BIGINT, \\n\\t\\\"Subscribers_gained\\\" BIGINT, \\n\\t\\\"Subscribers_lost\\\" BIGINT\\n)\\n\\n/*\\n3 rows from subscription_source_table_data table:\\nSubscription_source\\tSubscribers\\tSubscribers_gained\\tSubscribers_lost\\nTotal\\t417\\t528\\t111\\nYouTube watch-page\\t197\\t209\\t12\\nYour YouTube channel\\t157\\t182\\t25\\n*/\\n\\n\\nCREATE TABLE subscription_status_chart_data (\\n\\t\\\"Date\\\" DATE, \\n\\t\\\"Subscription_status\\\" TEXT, \\n\\t\\\"Views\\\" BIGINT\\n)\\n\\n/*\\n3 rows from subscription_status_chart_data table:\\nDate\\tSubscription_status\\tViews\\n2020-06-28\\tSubscribed\\t1\\n2020-06-29\\tSubscribed\\t16\\n2020-06-30\\tSubscribed\\t23\\n*/\\n\\n\\nCREATE TABLE subscription_status_table_data (\\n\\t\\\"Subscription_status\\\" TEXT, \\n\\t\\\"Views\\\" BIGINT, \\n\\t\\\"Watch_time_in_hours\\\" DOUBLE PRECISION, \\n\\t\\\"Average_view_duration\\\" TIME WITHOUT TIME ZONE\\n)\\n\\n/*\\n3 rows from subscription_status_table_data table:\\nSubscription_status\\tViews\\tWatch_time_in_hours\\tAverage_view_duration\\nTotal\\t26625\\t2157.3497\\t00:04:51\\nSubscribed\\t13621\\t1318.3326\\t00:05:48\\nNot subscribed\\t13004\\t839.0171\\t00:03:52\\n*/\\n\\n\\nCREATE TABLE subtitles_and_cc_chart_data (\\n\\t\\\"Date\\\" DATE, \\n\\t\\\"Subtitles_and_CC\\\" TEXT, \\n\\t\\\"Views\\\" BIGINT\\n)\\n\\n/*\\n3 rows from subtitles_and_cc_chart_data table:\\nDate\\tSubtitles_and_CC\\tViews\\n2020-06-28\\tNone\\t1\\n2020-06-29\\tNone\\t70\\n2020-06-30\\tNone\\t76\\n*/\\n\\n\\nCREATE TABLE subtitles_and_cc_table_data (\\n\\t\\\"Subtitles_and_CC\\\" TEXT, \\n\\t\\\"Views\\\" BIGINT, \\n\\t\\\"Watch_time_in_hours\\\" DOUBLE PRECISION, \\n\\t\\\"Average_view_duration\\\" TIME WITHOUT TIME ZONE\\n)\\n\\n/*\\n3 rows from subtitles_and_cc_table_data table:\\nSubtitles_and_CC\\tViews\\tWatch_time_in_hours\\tAverage_view_duration\\nTotal\\t26625\\t2157.3497\\t00:04:51\\nNone\\t25091\\t2019.2411\\t00:04:49\\nen\\t1499\\t136.6345\\t00:05:28\\n*/\\n\\n\\nCREATE TABLE traffic_source_chart_data (\\n\\t\\\"Date\\\" DATE, \\n\\t\\\"Traffic_source\\\" TEXT, \\n\\t\\\"Views\\\" BIGINT\\n)\\n\\n/*\\n3 rows from traffic_source_chart_data table:\\nDate\\tTraffic_source\\tViews\\n2020-06-28\\tDirect or unknown\\t0\\n2020-06-29\\tDirect or unknown\\t6\\n2020-06-30\\tDirect or unknown\\t2\\n*/\\n\\n\\nCREATE TABLE traffic_source_table_data (\\n\\t\\\"Traffic_source\\\" TEXT, \\n\\t\\\"Views\\\" DOUBLE PRECISION, \\n\\t\\\"Watch_time_in_hours\\\" DOUBLE PRECISION, \\n\\t\\\"Average_view_duration\\\" TIME WITHOUT TIME ZONE, \\n\\t\\\"Impressions\\\" DOUBLE PRECISION, \\n\\t\\\"Impressions_click_through_rate_in_percent\\\" DOUBLE PRECISION\\n)\\n\\n/*\\n3 rows from traffic_source_table_data table:\\nTraffic_source\\tViews\\tWatch_time_in_hours\\tAverage_view_duration\\tImpressions\\tImpressions_click_through_rate_in_percent\\nTotal\\t26625.0\\t2157.3497\\t00:04:51\\t606516.0\\t2.45\\nChannel pages\\t8444.0\\t780.234\\t00:05:32\\t218825.0\\t2.95\\nBrowse features\\t4759.0\\t321.8387\\t00:04:03\\t109132.0\\t3.43\\n*/\\n\\n\\nCREATE TABLE viewer_age_table_data (\\n\\t\\\"Viewer_age\\\" TEXT, \\n\\t\\\"Views_in_percent\\\" DOUBLE PRECISION, \\n\\t\\\"Average_view_duration\\\" TIME WITHOUT TIME ZONE, \\n\\t\\\"Average_percentage_viewed_in_percent\\\" DOUBLE PRECISION, \\n\\t\\\"Watch_time_hours_in_percent\\\" DOUBLE PRECISION\\n)\\n\\n/*\\n3 rows from viewer_age_table_data table:\\nViewer_age\\tViews_in_percent\\tAverage_view_duration\\tAverage_percentage_viewed_in_percent\\tWatch_time_hours_in_percent\\n13–17 years\\t0.49\\t00:00:08\\t0.27\\t0.01\\n18–24 years\\t23.27\\t00:05:17\\t9.75\\t26.91\\n25–34 years\\t72.7\\t00:04:30\\t8.08\\t71.66\\n*/\\n\\n\\nCREATE TABLE viewer_gender_table_data (\\n\\t\\\"Viewer_gender\\\" TEXT, \\n\\t\\\"Views_in_percent\\\" DOUBLE PRECISION, \\n\\t\\\"Average_view_duration\\\" TIME WITHOUT TIME ZONE, \\n\\t\\\"Average_percentage_viewed_in_percent\\\" DOUBLE PRECISION, \\n\\t\\\"Watch_time_hours_in_percent\\\" DOUBLE PRECISION\\n)\\n\\n/*\\n3 rows from viewer_gender_table_data table:\\nViewer_gender\\tViews_in_percent\\tAverage_view_duration\\tAverage_percentage_viewed_in_percent\\tWatch_time_hours_in_percent\\nFemale\\t20.16\\t00:05:23\\t9.36\\t23.38\\nMale\\t79.84\\t00:04:27\\t7.83\\t76.62\\n*/\\n\\n\\nCREATE TABLE viewership_by_date_table_data (\\n\\t\\\"Date\\\" TEXT, \\n\\t\\\"Views\\\" DOUBLE PRECISION, \\n\\t\\\"Watch_time_in_hours\\\" DOUBLE PRECISION, \\n\\t\\\"Average_view_duration\\\" TIME WITHOUT TIME ZONE\\n)\\n\\n/*\\n3 rows from viewership_by_date_table_data table:\\nDate\\tViews\\tWatch_time_in_hours\\tAverage_view_duration\\nTotal\\t26625.0\\t2157.3497\\t00:04:51\\n12/28/2023\\t25.0\\t0.3236\\t00:00:46\\n12/27/2023\\t8.0\\t0.2989\\t00:02:14\\n*/\\n\\n\\nCREATE TABLE views_by_date (\\n\\t\\\"Date\\\" DATE, \\n\\t\\\"Views\\\" BIGINT\\n)\\n\\n/*\\n3 rows from views_by_date table:\\nDate\\tViews\\n2020-06-28\\t1\\n2020-06-29\\t72\\n2020-06-30\\t76\\n*/\\n\\nQuestion: which age group has the most views?\\nSQLQuery:\"\n",
      "  ]\n",
      "}\n",
      "\u001b[36;1m\u001b[1;3m[llm/end]\u001b[0m \u001b[1m[1:chain:RunnableSequence > 7:llm:ChatOpenAI] [1.33s] Exiting LLM run with output:\n",
      "\u001b[0m{\n",
      "  \"generations\": [\n",
      "    [\n",
      "      {\n",
      "        \"text\": \"SELECT \\\"Viewer_age\\\", \\\"Views_in_percent\\\" \\nFROM viewer_age_table_data \\nORDER BY \\\"Views_in_percent\\\" DESC \\nLIMIT 1\",\n",
      "        \"generation_info\": {\n",
      "          \"finish_reason\": \"stop\",\n",
      "          \"logprobs\": null\n",
      "        },\n",
      "        \"type\": \"ChatGeneration\",\n",
      "        \"message\": {\n",
      "          \"lc\": 1,\n",
      "          \"type\": \"constructor\",\n",
      "          \"id\": [\n",
      "            \"langchain\",\n",
      "            \"schema\",\n",
      "            \"messages\",\n",
      "            \"AIMessage\"\n",
      "          ],\n",
      "          \"kwargs\": {\n",
      "            \"content\": \"SELECT \\\"Viewer_age\\\", \\\"Views_in_percent\\\" \\nFROM viewer_age_table_data \\nORDER BY \\\"Views_in_percent\\\" DESC \\nLIMIT 1\",\n",
      "            \"additional_kwargs\": {}\n",
      "          }\n",
      "        }\n",
      "      }\n",
      "    ]\n",
      "  ],\n",
      "  \"llm_output\": {\n",
      "    \"token_usage\": {\n",
      "      \"completion_tokens\": 29,\n",
      "      \"prompt_tokens\": 3209,\n",
      "      \"total_tokens\": 3238\n",
      "    },\n",
      "    \"model_name\": \"gpt-3.5-turbo-0613\",\n",
      "    \"system_fingerprint\": null\n",
      "  },\n",
      "  \"run\": null\n",
      "}\n",
      "\u001b[32;1m\u001b[1;3m[chain/start]\u001b[0m \u001b[1m[1:chain:RunnableSequence > 8:parser:StrOutputParser] Entering Parser run with input:\n",
      "\u001b[0m[inputs]\n",
      "\u001b[36;1m\u001b[1;3m[chain/end]\u001b[0m \u001b[1m[1:chain:RunnableSequence > 8:parser:StrOutputParser] [0ms] Exiting Parser run with output:\n",
      "\u001b[0m{\n",
      "  \"output\": \"SELECT \\\"Viewer_age\\\", \\\"Views_in_percent\\\" \\nFROM viewer_age_table_data \\nORDER BY \\\"Views_in_percent\\\" DESC \\nLIMIT 1\"\n",
      "}\n",
      "\u001b[32;1m\u001b[1;3m[chain/start]\u001b[0m \u001b[1m[1:chain:RunnableSequence > 9:chain:_strip] Entering Chain run with input:\n",
      "\u001b[0m{\n",
      "  \"input\": \"SELECT \\\"Viewer_age\\\", \\\"Views_in_percent\\\" \\nFROM viewer_age_table_data \\nORDER BY \\\"Views_in_percent\\\" DESC \\nLIMIT 1\"\n",
      "}\n",
      "\u001b[36;1m\u001b[1;3m[chain/end]\u001b[0m \u001b[1m[1:chain:RunnableSequence > 9:chain:_strip] [1ms] Exiting Chain run with output:\n",
      "\u001b[0m{\n",
      "  \"output\": \"SELECT \\\"Viewer_age\\\", \\\"Views_in_percent\\\" \\nFROM viewer_age_table_data \\nORDER BY \\\"Views_in_percent\\\" DESC \\nLIMIT 1\"\n",
      "}\n",
      "\u001b[36;1m\u001b[1;3m[chain/end]\u001b[0m \u001b[1m[1:chain:RunnableSequence] [1.40s] Exiting Chain run with output:\n",
      "\u001b[0m{\n",
      "  \"output\": \"SELECT \\\"Viewer_age\\\", \\\"Views_in_percent\\\" \\nFROM viewer_age_table_data \\nORDER BY \\\"Views_in_percent\\\" DESC \\nLIMIT 1\"\n",
      "}\n"
     ]
    }
   ],
   "source": [
    "langchain.debug=True # to see how langchain operates and interacts with our opeanai model while executing our queries \n",
    "sql_query=chain.invoke({\"question\":\"which age group has the most views?\"})"
   ]
  },
  {
   "cell_type": "code",
   "execution_count": 6,
   "metadata": {},
   "outputs": [
    {
     "data": {
      "text/plain": [
       "\"[('25–34 years', 72.7)]\""
      ]
     },
     "execution_count": 6,
     "metadata": {},
     "output_type": "execute_result"
    }
   ],
   "source": [
    "db.run(sql_query)"
   ]
  },
  {
   "cell_type": "code",
   "execution_count": 7,
   "metadata": {},
   "outputs": [
    {
     "name": "stderr",
     "output_type": "stream",
     "text": [
      "/home/kanu/redashvenv1/lib/python3.10/site-packages/langchain_core/_api/deprecation.py:189: LangChainDeprecationWarning: The class `ChatOpenAI` was deprecated in LangChain 0.1.0 and will be removed in 0.2.0. Use langchain_openai.ChatOpenAI instead.\n",
      "  warn_deprecated(\n",
      "/home/kanu/redashvenv1/lib/python3.10/site-packages/langchain_core/_api/deprecation.py:189: LangChainDeprecationWarning: The class `OpenAI` was deprecated in LangChain 0.1.0 and will be removed in 0.2.0. Use langchain_openai.OpenAI instead.\n",
      "  warn_deprecated(\n",
      "/home/kanu/redashvenv1/lib/python3.10/site-packages/langchain_core/_api/deprecation.py:189: LangChainDeprecationWarning: The class `OpenAIFunctionsAgent` was deprecated in LangChain 0.1.0 and will be removed in 0.2.0. Use create_openai_functions_agent instead.\n",
      "  warn_deprecated(\n"
     ]
    }
   ],
   "source": [
    "# creating an sql agent\n",
    "langchain.debug=False\n",
    "agent_executor= create_sql_agent(\n",
    "    llm=ChatOpenAI(temperature=0,model=\"gpt-3.5-turbo-0613\"),\n",
    "    toolkit=SQLDatabaseToolkit(db=db,llm=OpenAI(temperature=0)),\n",
    "    verbose=True,\n",
    "    agent_type=AgentType.OPENAI_FUNCTIONS\n",
    ")"
   ]
  },
  {
   "cell_type": "code",
   "execution_count": 8,
   "metadata": {},
   "outputs": [
    {
     "name": "stderr",
     "output_type": "stream",
     "text": [
      "/home/kanu/redashvenv1/lib/python3.10/site-packages/langchain_core/_api/deprecation.py:189: LangChainDeprecationWarning: The function `run` was deprecated in LangChain 0.1.0 and will be removed in 0.2.0. Use invoke instead.\n",
      "  warn_deprecated(\n",
      "/home/kanu/redashvenv1/lib/python3.10/site-packages/langchain_core/_api/deprecation.py:189: LangChainDeprecationWarning: The function `__call__` was deprecated in LangChain 0.1.0 and will be removed in 0.2.0. Use invoke instead.\n",
      "  warn_deprecated(\n",
      "/home/kanu/redashvenv1/lib/python3.10/site-packages/langchain_core/_api/deprecation.py:189: LangChainDeprecationWarning: The function `predict_messages` was deprecated in LangChain 0.1.7 and will be removed in 0.2.0. Use invoke instead.\n",
      "  warn_deprecated(\n",
      "/home/kanu/redashvenv1/lib/python3.10/site-packages/langchain_core/_api/deprecation.py:189: LangChainDeprecationWarning: The function `__call__` was deprecated in LangChain 0.1.7 and will be removed in 0.2.0. Use invoke instead.\n",
      "  warn_deprecated(\n"
     ]
    },
    {
     "name": "stdout",
     "output_type": "stream",
     "text": [
      "\n",
      "\n",
      "\u001b[1m> Entering new AgentExecutor chain...\u001b[0m\n",
      "\u001b[32;1m\u001b[1;3m\n",
      "Invoking: `sql_db_list_tables` with `{}`\n",
      "\n",
      "\n",
      "\u001b[0m\u001b[38;5;200m\u001b[1;3mcities_chart_data, cities_table_data, content_type_chart_data, content_type_table_data, device_type_chart_data, device_type_table_data, geography_chart_data, geography_table_data, new_and_returning_viewers_chart_data, new_and_returning_viewers_table_data, operating_system_chart_data, operating_system_table_data, sharing_service_chart_data, sharing_service_table_data, subscription_source_chart_data, subscription_source_table_data, subscription_status_chart_data, subscription_status_table_data, subtitles_and_cc_chart_data, subtitles_and_cc_table_data, traffic_source_chart_data, traffic_source_table_data, viewer_age_table_data, viewer_gender_table_data, viewership_by_date_table_data, views_by_date\u001b[0m"
     ]
    },
    {
     "name": "stderr",
     "output_type": "stream",
     "text": [
      "/home/kanu/redashvenv1/lib/python3.10/site-packages/langchain_core/_api/deprecation.py:189: LangChainDeprecationWarning: The function `predict_messages` was deprecated in LangChain 0.1.7 and will be removed in 0.2.0. Use invoke instead.\n",
      "  warn_deprecated(\n",
      "/home/kanu/redashvenv1/lib/python3.10/site-packages/langchain_core/_api/deprecation.py:189: LangChainDeprecationWarning: The function `__call__` was deprecated in LangChain 0.1.7 and will be removed in 0.2.0. Use invoke instead.\n",
      "  warn_deprecated(\n"
     ]
    },
    {
     "name": "stdout",
     "output_type": "stream",
     "text": [
      "\u001b[32;1m\u001b[1;3m\n",
      "Invoking: `sql_db_schema` with `viewer_gender_table_data`\n",
      "\n",
      "\n",
      "\u001b[0m\u001b[33;1m\u001b[1;3m\n",
      "CREATE TABLE viewer_gender_table_data (\n",
      "\t\"Viewer_gender\" TEXT, \n",
      "\t\"Views_in_percent\" DOUBLE PRECISION, \n",
      "\t\"Average_view_duration\" TIME WITHOUT TIME ZONE, \n",
      "\t\"Average_percentage_viewed_in_percent\" DOUBLE PRECISION, \n",
      "\t\"Watch_time_hours_in_percent\" DOUBLE PRECISION\n",
      ")\n",
      "\n",
      "/*\n",
      "3 rows from viewer_gender_table_data table:\n",
      "Viewer_gender\tViews_in_percent\tAverage_view_duration\tAverage_percentage_viewed_in_percent\tWatch_time_hours_in_percent\n",
      "Female\t20.16\t00:05:23\t9.36\t23.38\n",
      "Male\t79.84\t00:04:27\t7.83\t76.62\n",
      "*/\u001b[0m"
     ]
    },
    {
     "name": "stderr",
     "output_type": "stream",
     "text": [
      "/home/kanu/redashvenv1/lib/python3.10/site-packages/langchain_core/_api/deprecation.py:189: LangChainDeprecationWarning: The function `predict_messages` was deprecated in LangChain 0.1.7 and will be removed in 0.2.0. Use invoke instead.\n",
      "  warn_deprecated(\n",
      "/home/kanu/redashvenv1/lib/python3.10/site-packages/langchain_core/_api/deprecation.py:189: LangChainDeprecationWarning: The function `__call__` was deprecated in LangChain 0.1.7 and will be removed in 0.2.0. Use invoke instead.\n",
      "  warn_deprecated(\n"
     ]
    },
    {
     "name": "stdout",
     "output_type": "stream",
     "text": [
      "\u001b[32;1m\u001b[1;3mBased on the data from the `viewer_gender_table_data` table, the gender with the highest average view duration is female. The average view duration for females is 00:05:23, while for males it is 00:04:27.\u001b[0m\n",
      "\n",
      "\u001b[1m> Finished chain.\u001b[0m\n",
      "Based on the data from the `viewer_gender_table_data` table, the gender with the highest average view duration is female. The average view duration for females is 00:05:23, while for males it is 00:04:27.\n"
     ]
    }
   ],
   "source": [
    "print(agent_executor.run(\"which gender has the highest average view duration\"))"
   ]
  },
  {
   "cell_type": "code",
   "execution_count": 9,
   "metadata": {},
   "outputs": [
    {
     "name": "stderr",
     "output_type": "stream",
     "text": [
      "/home/kanu/redashvenv1/lib/python3.10/site-packages/langchain_core/_api/deprecation.py:189: LangChainDeprecationWarning: The function `run` was deprecated in LangChain 0.1.0 and will be removed in 0.2.0. Use invoke instead.\n",
      "  warn_deprecated(\n",
      "/home/kanu/redashvenv1/lib/python3.10/site-packages/langchain_core/_api/deprecation.py:189: LangChainDeprecationWarning: The function `__call__` was deprecated in LangChain 0.1.0 and will be removed in 0.2.0. Use invoke instead.\n",
      "  warn_deprecated(\n",
      "/home/kanu/redashvenv1/lib/python3.10/site-packages/langchain_core/_api/deprecation.py:189: LangChainDeprecationWarning: The function `predict_messages` was deprecated in LangChain 0.1.7 and will be removed in 0.2.0. Use invoke instead.\n",
      "  warn_deprecated(\n",
      "/home/kanu/redashvenv1/lib/python3.10/site-packages/langchain_core/_api/deprecation.py:189: LangChainDeprecationWarning: The function `__call__` was deprecated in LangChain 0.1.7 and will be removed in 0.2.0. Use invoke instead.\n",
      "  warn_deprecated(\n"
     ]
    },
    {
     "name": "stdout",
     "output_type": "stream",
     "text": [
      "\n",
      "\n",
      "\u001b[1m> Entering new AgentExecutor chain...\u001b[0m\n",
      "\u001b[32;1m\u001b[1;3m\n",
      "Invoking: `sql_db_list_tables` with `{}`\n",
      "\n",
      "\n",
      "\u001b[0m\u001b[38;5;200m\u001b[1;3mcities_chart_data, cities_table_data, content_type_chart_data, content_type_table_data, device_type_chart_data, device_type_table_data, geography_chart_data, geography_table_data, new_and_returning_viewers_chart_data, new_and_returning_viewers_table_data, operating_system_chart_data, operating_system_table_data, sharing_service_chart_data, sharing_service_table_data, subscription_source_chart_data, subscription_source_table_data, subscription_status_chart_data, subscription_status_table_data, subtitles_and_cc_chart_data, subtitles_and_cc_table_data, traffic_source_chart_data, traffic_source_table_data, viewer_age_table_data, viewer_gender_table_data, viewership_by_date_table_data, views_by_date\u001b[0m"
     ]
    },
    {
     "name": "stderr",
     "output_type": "stream",
     "text": [
      "/home/kanu/redashvenv1/lib/python3.10/site-packages/langchain_core/_api/deprecation.py:189: LangChainDeprecationWarning: The function `predict_messages` was deprecated in LangChain 0.1.7 and will be removed in 0.2.0. Use invoke instead.\n",
      "  warn_deprecated(\n",
      "/home/kanu/redashvenv1/lib/python3.10/site-packages/langchain_core/_api/deprecation.py:189: LangChainDeprecationWarning: The function `__call__` was deprecated in LangChain 0.1.7 and will be removed in 0.2.0. Use invoke instead.\n",
      "  warn_deprecated(\n"
     ]
    },
    {
     "name": "stdout",
     "output_type": "stream",
     "text": [
      "\u001b[32;1m\u001b[1;3m\n",
      "Invoking: `sql_db_schema` with `views_by_date`\n",
      "\n",
      "\n",
      "\u001b[0m\u001b[33;1m\u001b[1;3m\n",
      "CREATE TABLE views_by_date (\n",
      "\t\"Date\" DATE, \n",
      "\t\"Views\" BIGINT\n",
      ")\n",
      "\n",
      "/*\n",
      "3 rows from views_by_date table:\n",
      "Date\tViews\n",
      "2020-06-28\t1\n",
      "2020-06-29\t72\n",
      "2020-06-30\t76\n",
      "*/\u001b[0m"
     ]
    },
    {
     "name": "stderr",
     "output_type": "stream",
     "text": [
      "/home/kanu/redashvenv1/lib/python3.10/site-packages/langchain_core/_api/deprecation.py:189: LangChainDeprecationWarning: The function `predict_messages` was deprecated in LangChain 0.1.7 and will be removed in 0.2.0. Use invoke instead.\n",
      "  warn_deprecated(\n",
      "/home/kanu/redashvenv1/lib/python3.10/site-packages/langchain_core/_api/deprecation.py:189: LangChainDeprecationWarning: The function `__call__` was deprecated in LangChain 0.1.7 and will be removed in 0.2.0. Use invoke instead.\n",
      "  warn_deprecated(\n"
     ]
    },
    {
     "name": "stdout",
     "output_type": "stream",
     "text": [
      "\u001b[32;1m\u001b[1;3m\n",
      "Invoking: `sql_db_query` with `SELECT Date, Views FROM views_by_date ORDER BY Views DESC LIMIT 1`\n",
      "responded: Based on the schema of the `views_by_date` table, we can query the date with the most views. Let me construct the query for you.\n",
      "\n",
      "\u001b[0m\u001b[36;1m\u001b[1;3mError: (psycopg2.errors.UndefinedColumn) column \"date\" does not exist\n",
      "LINE 1: SELECT Date, Views FROM views_by_date ORDER BY Views DESC LI...\n",
      "               ^\n",
      "HINT:  Perhaps you meant to reference the column \"views_by_date.Date\".\n",
      "\n",
      "[SQL: SELECT Date, Views FROM views_by_date ORDER BY Views DESC LIMIT 1]\n",
      "(Background on this error at: https://sqlalche.me/e/20/f405)\u001b[0m"
     ]
    },
    {
     "name": "stderr",
     "output_type": "stream",
     "text": [
      "/home/kanu/redashvenv1/lib/python3.10/site-packages/langchain_core/_api/deprecation.py:189: LangChainDeprecationWarning: The function `predict_messages` was deprecated in LangChain 0.1.7 and will be removed in 0.2.0. Use invoke instead.\n",
      "  warn_deprecated(\n",
      "/home/kanu/redashvenv1/lib/python3.10/site-packages/langchain_core/_api/deprecation.py:189: LangChainDeprecationWarning: The function `__call__` was deprecated in LangChain 0.1.7 and will be removed in 0.2.0. Use invoke instead.\n",
      "  warn_deprecated(\n"
     ]
    },
    {
     "name": "stdout",
     "output_type": "stream",
     "text": [
      "\u001b[32;1m\u001b[1;3m\n",
      "Invoking: `sql_db_query` with `SELECT \"Date\", \"Views\" FROM views_by_date ORDER BY \"Views\" DESC LIMIT 1`\n",
      "responded: Apologies for the error. It seems that the column name \"Date\" is not recognized. Let me correct the query for you.\n",
      "\n",
      "\u001b[0m\u001b[36;1m\u001b[1;3m[(datetime.date(2022, 9, 26), 367)]\u001b[0m"
     ]
    },
    {
     "name": "stderr",
     "output_type": "stream",
     "text": [
      "/home/kanu/redashvenv1/lib/python3.10/site-packages/langchain_core/_api/deprecation.py:189: LangChainDeprecationWarning: The function `predict_messages` was deprecated in LangChain 0.1.7 and will be removed in 0.2.0. Use invoke instead.\n",
      "  warn_deprecated(\n",
      "/home/kanu/redashvenv1/lib/python3.10/site-packages/langchain_core/_api/deprecation.py:189: LangChainDeprecationWarning: The function `__call__` was deprecated in LangChain 0.1.7 and will be removed in 0.2.0. Use invoke instead.\n",
      "  warn_deprecated(\n"
     ]
    },
    {
     "name": "stdout",
     "output_type": "stream",
     "text": [
      "\u001b[32;1m\u001b[1;3mThe date with the most views is September 26, 2022, with a total of 367 views.\u001b[0m\n",
      "\n",
      "\u001b[1m> Finished chain.\u001b[0m\n",
      "The date with the most views is September 26, 2022, with a total of 367 views.\n"
     ]
    }
   ],
   "source": [
    "# it corrects it self when it counters errors\n",
    "print(agent_executor.run(\"which date has the most view\"))"
   ]
  },
  {
   "cell_type": "code",
   "execution_count": 12,
   "metadata": {},
   "outputs": [
    {
     "name": "stderr",
     "output_type": "stream",
     "text": [
      "/home/kanu/redashvenv1/lib/python3.10/site-packages/langchain_core/_api/deprecation.py:189: LangChainDeprecationWarning: The function `run` was deprecated in LangChain 0.1.0 and will be removed in 0.2.0. Use invoke instead.\n",
      "  warn_deprecated(\n",
      "/home/kanu/redashvenv1/lib/python3.10/site-packages/langchain_core/_api/deprecation.py:189: LangChainDeprecationWarning: The function `__call__` was deprecated in LangChain 0.1.0 and will be removed in 0.2.0. Use invoke instead.\n",
      "  warn_deprecated(\n",
      "/home/kanu/redashvenv1/lib/python3.10/site-packages/langchain_core/_api/deprecation.py:189: LangChainDeprecationWarning: The function `predict_messages` was deprecated in LangChain 0.1.7 and will be removed in 0.2.0. Use invoke instead.\n",
      "  warn_deprecated(\n",
      "/home/kanu/redashvenv1/lib/python3.10/site-packages/langchain_core/_api/deprecation.py:189: LangChainDeprecationWarning: The function `__call__` was deprecated in LangChain 0.1.7 and will be removed in 0.2.0. Use invoke instead.\n",
      "  warn_deprecated(\n"
     ]
    },
    {
     "name": "stdout",
     "output_type": "stream",
     "text": [
      "\n",
      "\n",
      "\u001b[1m> Entering new AgentExecutor chain...\u001b[0m\n",
      "\u001b[32;1m\u001b[1;3m\n",
      "Invoking: `sql_db_list_tables` with `{}`\n",
      "\n",
      "\n",
      "\u001b[0m\u001b[38;5;200m\u001b[1;3mcities_chart_data, cities_table_data, content_type_chart_data, content_type_table_data, device_type_chart_data, device_type_table_data, geography_chart_data, geography_table_data, new_and_returning_viewers_chart_data, new_and_returning_viewers_table_data, operating_system_chart_data, operating_system_table_data, sharing_service_chart_data, sharing_service_table_data, subscription_source_chart_data, subscription_source_table_data, subscription_status_chart_data, subscription_status_table_data, subtitles_and_cc_chart_data, subtitles_and_cc_table_data, traffic_source_chart_data, traffic_source_table_data, viewer_age_table_data, viewer_gender_table_data, viewership_by_date_table_data, views_by_date\u001b[0m"
     ]
    },
    {
     "name": "stderr",
     "output_type": "stream",
     "text": [
      "/home/kanu/redashvenv1/lib/python3.10/site-packages/langchain_core/_api/deprecation.py:189: LangChainDeprecationWarning: The function `predict_messages` was deprecated in LangChain 0.1.7 and will be removed in 0.2.0. Use invoke instead.\n",
      "  warn_deprecated(\n",
      "/home/kanu/redashvenv1/lib/python3.10/site-packages/langchain_core/_api/deprecation.py:189: LangChainDeprecationWarning: The function `__call__` was deprecated in LangChain 0.1.7 and will be removed in 0.2.0. Use invoke instead.\n",
      "  warn_deprecated(\n"
     ]
    },
    {
     "name": "stdout",
     "output_type": "stream",
     "text": [
      "\u001b[32;1m\u001b[1;3m\n",
      "Invoking: `sql_db_schema` with `operating_system_table_data`\n",
      "\n",
      "\n",
      "\u001b[0m\u001b[33;1m\u001b[1;3m\n",
      "CREATE TABLE operating_system_table_data (\n",
      "\t\"Operating_system\" TEXT, \n",
      "\t\"Views\" BIGINT, \n",
      "\t\"Watch_time_in_hours\" DOUBLE PRECISION, \n",
      "\t\"Average_view_duration\" TIME WITHOUT TIME ZONE\n",
      ")\n",
      "\n",
      "/*\n",
      "3 rows from operating_system_table_data table:\n",
      "Operating_system\tViews\tWatch_time_in_hours\tAverage_view_duration\n",
      "Total\t26625\t2157.3497\t00:04:51\n",
      "Windows\t12506\t1099.1683\t00:05:16\n",
      "Android\t6089\t381.0323\t00:03:45\n",
      "*/\u001b[0m"
     ]
    },
    {
     "name": "stderr",
     "output_type": "stream",
     "text": [
      "/home/kanu/redashvenv1/lib/python3.10/site-packages/langchain_core/_api/deprecation.py:189: LangChainDeprecationWarning: The function `predict_messages` was deprecated in LangChain 0.1.7 and will be removed in 0.2.0. Use invoke instead.\n",
      "  warn_deprecated(\n",
      "/home/kanu/redashvenv1/lib/python3.10/site-packages/langchain_core/_api/deprecation.py:189: LangChainDeprecationWarning: The function `__call__` was deprecated in LangChain 0.1.7 and will be removed in 0.2.0. Use invoke instead.\n",
      "  warn_deprecated(\n"
     ]
    },
    {
     "name": "stdout",
     "output_type": "stream",
     "text": [
      "\u001b[32;1m\u001b[1;3m\n",
      "Invoking: `sql_db_query` with `SELECT Views FROM operating_system_table_data WHERE Operating_system = 'Android' LIMIT 10`\n",
      "responded: Based on the schema of the `operating_system_table_data` table, we can see that it contains information about the operating system, views, watch time in hours, and average view duration.\n",
      "\n",
      "To find out how many views you get from the Android operating system, we can query the `Views` column where the `Operating_system` is 'Android'.\n",
      "\n",
      "Here is the query:\n",
      "\n",
      "```sql\n",
      "SELECT Views\n",
      "FROM operating_system_table_data\n",
      "WHERE Operating_system = 'Android'\n",
      "```\n",
      "\n",
      "Executing this query will give us the number of views from the Android operating system.\n",
      "\n",
      "Please note that I will limit the results to 10 examples.\n",
      "\n",
      "\u001b[0m\u001b[36;1m\u001b[1;3mError: (psycopg2.errors.UndefinedColumn) column \"views\" does not exist\n",
      "LINE 1: SELECT Views FROM operating_system_table_data WHERE Operatin...\n",
      "               ^\n",
      "HINT:  Perhaps you meant to reference the column \"operating_system_table_data.Views\".\n",
      "\n",
      "[SQL: SELECT Views FROM operating_system_table_data WHERE Operating_system = 'Android' LIMIT 10]\n",
      "(Background on this error at: https://sqlalche.me/e/20/f405)\u001b[0m"
     ]
    },
    {
     "name": "stderr",
     "output_type": "stream",
     "text": [
      "/home/kanu/redashvenv1/lib/python3.10/site-packages/langchain_core/_api/deprecation.py:189: LangChainDeprecationWarning: The function `predict_messages` was deprecated in LangChain 0.1.7 and will be removed in 0.2.0. Use invoke instead.\n",
      "  warn_deprecated(\n",
      "/home/kanu/redashvenv1/lib/python3.10/site-packages/langchain_core/_api/deprecation.py:189: LangChainDeprecationWarning: The function `__call__` was deprecated in LangChain 0.1.7 and will be removed in 0.2.0. Use invoke instead.\n",
      "  warn_deprecated(\n"
     ]
    },
    {
     "name": "stdout",
     "output_type": "stream",
     "text": [
      "\u001b[32;1m\u001b[1;3m\n",
      "Invoking: `sql_db_query_checker` with `SELECT \"Views\" FROM operating_system_table_data WHERE \"Operating_system\" = 'Android' LIMIT 10`\n",
      "\n",
      "\n",
      "\u001b[0m"
     ]
    },
    {
     "name": "stderr",
     "output_type": "stream",
     "text": [
      "/home/kanu/redashvenv1/lib/python3.10/site-packages/langchain_core/_api/deprecation.py:189: LangChainDeprecationWarning: The function `__call__` was deprecated in LangChain 0.1.0 and will be removed in 0.2.0. Use invoke instead.\n",
      "  warn_deprecated(\n"
     ]
    },
    {
     "name": "stdout",
     "output_type": "stream",
     "text": [
      "\u001b[36;1m\u001b[1;3m\n",
      "SELECT \"Views\" FROM operating_system_table_data WHERE \"Operating_system\" = 'Android' LIMIT 10\u001b[0m"
     ]
    },
    {
     "name": "stderr",
     "output_type": "stream",
     "text": [
      "/home/kanu/redashvenv1/lib/python3.10/site-packages/langchain_core/_api/deprecation.py:189: LangChainDeprecationWarning: The function `predict_messages` was deprecated in LangChain 0.1.7 and will be removed in 0.2.0. Use invoke instead.\n",
      "  warn_deprecated(\n",
      "/home/kanu/redashvenv1/lib/python3.10/site-packages/langchain_core/_api/deprecation.py:189: LangChainDeprecationWarning: The function `__call__` was deprecated in LangChain 0.1.7 and will be removed in 0.2.0. Use invoke instead.\n",
      "  warn_deprecated(\n"
     ]
    },
    {
     "name": "stdout",
     "output_type": "stream",
     "text": [
      "\u001b[32;1m\u001b[1;3m\n",
      "Invoking: `sql_db_query` with `SELECT \"Views\" FROM operating_system_table_data WHERE \"Operating_system\" = 'Android' LIMIT 10`\n",
      "\n",
      "\n",
      "\u001b[0m\u001b[36;1m\u001b[1;3m[(6089,)]\u001b[0m"
     ]
    },
    {
     "name": "stderr",
     "output_type": "stream",
     "text": [
      "/home/kanu/redashvenv1/lib/python3.10/site-packages/langchain_core/_api/deprecation.py:189: LangChainDeprecationWarning: The function `predict_messages` was deprecated in LangChain 0.1.7 and will be removed in 0.2.0. Use invoke instead.\n",
      "  warn_deprecated(\n",
      "/home/kanu/redashvenv1/lib/python3.10/site-packages/langchain_core/_api/deprecation.py:189: LangChainDeprecationWarning: The function `__call__` was deprecated in LangChain 0.1.7 and will be removed in 0.2.0. Use invoke instead.\n",
      "  warn_deprecated(\n"
     ]
    },
    {
     "name": "stdout",
     "output_type": "stream",
     "text": [
      "\u001b[32;1m\u001b[1;3mYou have received a total of 6,089 views from the Android operating system.\u001b[0m\n",
      "\n",
      "\u001b[1m> Finished chain.\u001b[0m\n",
      "You have received a total of 6,089 views from the Android operating system.\n"
     ]
    }
   ],
   "source": [
    "print(agent_executor.run(\"how many views do i get from android operating system\"))"
   ]
  },
  {
   "cell_type": "code",
   "execution_count": null,
   "metadata": {},
   "outputs": [],
   "source": []
  }
 ],
 "metadata": {
  "kernelspec": {
   "display_name": "redashvenv1",
   "language": "python",
   "name": "python3"
  },
  "language_info": {
   "codemirror_mode": {
    "name": "ipython",
    "version": 3
   },
   "file_extension": ".py",
   "mimetype": "text/x-python",
   "name": "python",
   "nbconvert_exporter": "python",
   "pygments_lexer": "ipython3",
   "version": "3.10.12"
  }
 },
 "nbformat": 4,
 "nbformat_minor": 2
}
